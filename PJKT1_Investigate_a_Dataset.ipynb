{
 "cells": [
  {
   "cell_type": "markdown",
   "metadata": {},
   "source": [
    "\n",
    "# Project:\n",
    "\n",
    "### Exploring relationship between Social-economic Variables and HIV prevalence for both sex (15-24 age group) in ten years between 1991-2000 among a group of different countries based on GAPMINDER data.\n",
    "\n",
    "\n",
    "## Table of Contents\n",
    "<ul>\n",
    "<li><a href=\"#intro\">Introduction</a></li>\n",
    "<li><a href=\"#wrangling\">Data Wrangling</a></li>\n",
    "<li><a href=\"#eda\">Exploratory Data Analysis</a></li>\n",
    "<li><a href=\"#conclusions\">Conclusions</a></li>\n",
    "</ul>"
   ]
  },
  {
   "cell_type": "markdown",
   "metadata": {},
   "source": [
    "<a id='intro'></a>\n",
    "## Introduction and Data Combining"
   ]
  },
  {
   "cell_type": "markdown",
   "metadata": {},
   "source": [
    "### Variables included\n",
    "> [**Social-economic factors (1-6), Health factors (7-8)**](https://www.gapminder.org/data/): \n",
    "1. Employment rate (%),females aged 15-24\n",
    "2. Employment rate (%),males aged 15-24\n",
    "4. Democracy score (use as color)\n",
    "5. GDP/capita (USD,inflation-adjusted)\n",
    "6. Human Development Index (HDI)\n",
    "7. Ratio girls/boys in school, primary and secondary education (%)\n",
    "8. Prevalence of HIV,female (% age 15-24)\n",
    "9. Prevalence of HIV,male (% age 15-24)"
   ]
  },
  {
   "cell_type": "code",
   "execution_count": 1,
   "metadata": {
    "scrolled": true
   },
   "outputs": [],
   "source": [
    "# import packages \n",
    "import pandas as pd\n",
    "import numpy as np\n",
    "import matplotlib.pyplot as plt\n",
    "import seaborn as sns\n",
    "%matplotlib inline"
   ]
  },
  {
   "cell_type": "markdown",
   "metadata": {},
   "source": [
    "### Build a holistic dataset by combining 8 different sub-datasets"
   ]
  },
  {
   "cell_type": "code",
   "execution_count": 2,
   "metadata": {
    "scrolled": false
   },
   "outputs": [],
   "source": [
    "# import 'Employment rate (%),females aged 15-24.csv'\n",
    "df1= pd.read_csv('females_aged_15_24_employment_rate_percent.csv',index_col='country')\n",
    "# calculate 'mean female employment rate between 1991 and 2000'\n",
    "df1['EmpRt_F_mean']=df1[['1991','1992','1993','1994','1995','1996','1997','1998','1999','2000']].mean(axis=1)"
   ]
  },
  {
   "cell_type": "code",
   "execution_count": 3,
   "metadata": {},
   "outputs": [],
   "source": [
    "# import 'Employment rate (%),males aged 15-24.csv'\n",
    "df2= pd.read_csv('males_aged_15_24_employment_rate_percent.csv',index_col='country')\n",
    "# calculate 'mean male employment rate between 1991 and 2000'\n",
    "df2['EmpRt_M_mean']=df2[['1991','1992','1993','1994','1995','1996','1997','1998','1999','2000']].mean(axis=1)"
   ]
  },
  {
   "cell_type": "code",
   "execution_count": 4,
   "metadata": {},
   "outputs": [],
   "source": [
    "# import 'Democracy score (use as color).csv'\n",
    "df3= pd.read_csv('democracy_score_use_as_color.csv',index_col='country')\n",
    "# calculate 'mean democracy_score between 1991 and 2000'\n",
    "df3['Democracy_mean']=df3[['1991','1992','1993','1994','1995','1996','1997','1998','1999','2000']].mean(axis=1)"
   ]
  },
  {
   "cell_type": "code",
   "execution_count": 5,
   "metadata": {},
   "outputs": [],
   "source": [
    "# import 'gdppercapita_us_inflation_adjusted.csv'\n",
    "df4= pd.read_csv('gdppercapita_us_inflation_adjusted.csv',index_col='country')\n",
    "# calculate 'mean gdppercapita between 1991 and 2000'\n",
    "df4['gdppercap_mean']=df4[['1991','1992','1993','1994','1995','1996','1997','1998','1999','2000']].mean(axis=1)"
   ]
  },
  {
   "cell_type": "code",
   "execution_count": 6,
   "metadata": {},
   "outputs": [],
   "source": [
    "# import 'hdi_human_development_index.csv'\n",
    "df5= pd.read_csv('hdi_human_development_index.csv',index_col='country')\n",
    "# calculate 'mean hdi between 1991 and 2000'\n",
    "df5['hdi_mean']=df5[['1991','1992','1993','1994','1995','1996','1997','1998','1999','2000']].mean(axis=1)"
   ]
  },
  {
   "cell_type": "code",
   "execution_count": 7,
   "metadata": {},
   "outputs": [],
   "source": [
    "# import 'ratio_of_girls_to_boys_in_primary_and_secondary_education_perc.csv'\n",
    "df6= pd.read_csv('ratio_of_girls_to_boys_in_primary_and_secondary_education_perc.csv',index_col='country')\n",
    "# calculate 'mean ratio_of_girls_to_boys between 1991 and 2000'\n",
    "df6['EduRatio_F2M_mean']=df6[['1991','1992','1993','1994','1995','1996','1997','1998','1999','2000']].mean(axis=1)"
   ]
  },
  {
   "cell_type": "code",
   "execution_count": 8,
   "metadata": {},
   "outputs": [],
   "source": [
    "# import 'sh_hiv_1524_fe_zs.csv'\n",
    "df7= pd.read_csv('sh_hiv_1524_fe_zs.csv',index_col='country')\n",
    "# calculate 'mean Prevalence of HIV,female (% age 15-24) between 1991 and 2000'\n",
    "df7['HIV_F_mean']=df7[['1991','1992','1993','1994','1995','1996','1997','1998','1999','2000']].mean(axis=1)"
   ]
  },
  {
   "cell_type": "code",
   "execution_count": 9,
   "metadata": {},
   "outputs": [],
   "source": [
    "# import 'sh_hiv_1524_ma_zs.csv'\n",
    "df8= pd.read_csv('sh_hiv_1524_ma_zs.csv',index_col='country')\n",
    "# calculate 'mean Prevalence of HIV,male (% age 15-24) between 1991 and 2000'\n",
    "df8['HIV_M_mean']=df8[['1991','1992','1993','1994','1995','1996','1997','1998','1999','2000']].mean(axis=1)"
   ]
  },
  {
   "cell_type": "code",
   "execution_count": 10,
   "metadata": {
    "scrolled": false
   },
   "outputs": [],
   "source": [
    "#combine 8 data series into one holistic dataframe 'df_comb' \n",
    "s=([df1['EmpRt_F_mean'],df2['EmpRt_M_mean'],df3['Democracy_mean'],df4['gdppercap_mean'],df5['hdi_mean'],df6['EduRatio_F2M_mean'],df7['HIV_F_mean'],df8['HIV_M_mean']])\n",
    "df_comb=pd.concat(s,axis=1,sort=False)"
   ]
  },
  {
   "cell_type": "code",
   "execution_count": 11,
   "metadata": {
    "scrolled": true
   },
   "outputs": [],
   "source": [
    "df_comb.to_csv('combined_v1.csv')"
   ]
  },
  {
   "cell_type": "markdown",
   "metadata": {},
   "source": [
    "<a id='wrangling'></a>\n",
    "## Data Wrangling\n",
    "\n",
    "### General Properties"
   ]
  },
  {
   "cell_type": "code",
   "execution_count": 12,
   "metadata": {},
   "outputs": [
    {
     "data": {
      "text/html": [
       "<div>\n",
       "<style scoped>\n",
       "    .dataframe tbody tr th:only-of-type {\n",
       "        vertical-align: middle;\n",
       "    }\n",
       "\n",
       "    .dataframe tbody tr th {\n",
       "        vertical-align: top;\n",
       "    }\n",
       "\n",
       "    .dataframe thead th {\n",
       "        text-align: right;\n",
       "    }\n",
       "</style>\n",
       "<table border=\"1\" class=\"dataframe\">\n",
       "  <thead>\n",
       "    <tr style=\"text-align: right;\">\n",
       "      <th></th>\n",
       "      <th>EmpRt_F_mean</th>\n",
       "      <th>EmpRt_M_mean</th>\n",
       "      <th>Democracy_mean</th>\n",
       "      <th>gdppercap_mean</th>\n",
       "      <th>hdi_mean</th>\n",
       "      <th>EduRatio_F2M_mean</th>\n",
       "      <th>HIV_F_mean</th>\n",
       "      <th>HIV_M_mean</th>\n",
       "    </tr>\n",
       "  </thead>\n",
       "  <tbody>\n",
       "    <tr>\n",
       "      <th>Afghanistan</th>\n",
       "      <td>12.790</td>\n",
       "      <td>59.02</td>\n",
       "      <td>-4.3</td>\n",
       "      <td>NaN</td>\n",
       "      <td>0.3211</td>\n",
       "      <td>0.450000</td>\n",
       "      <td>NaN</td>\n",
       "      <td>NaN</td>\n",
       "    </tr>\n",
       "    <tr>\n",
       "      <th>Albania</th>\n",
       "      <td>38.160</td>\n",
       "      <td>34.80</td>\n",
       "      <td>4.1</td>\n",
       "      <td>1751.0</td>\n",
       "      <td>0.6310</td>\n",
       "      <td>0.978000</td>\n",
       "      <td>0.10</td>\n",
       "      <td>0.10</td>\n",
       "    </tr>\n",
       "    <tr>\n",
       "      <th>Algeria</th>\n",
       "      <td>8.609</td>\n",
       "      <td>32.45</td>\n",
       "      <td>-4.1</td>\n",
       "      <td>3344.0</td>\n",
       "      <td>0.6087</td>\n",
       "      <td>0.889556</td>\n",
       "      <td>0.10</td>\n",
       "      <td>0.10</td>\n",
       "    </tr>\n",
       "    <tr>\n",
       "      <th>Angola</th>\n",
       "      <td>24.920</td>\n",
       "      <td>28.73</td>\n",
       "      <td>-2.1</td>\n",
       "      <td>1649.0</td>\n",
       "      <td>0.3865</td>\n",
       "      <td>0.804000</td>\n",
       "      <td>0.42</td>\n",
       "      <td>0.19</td>\n",
       "    </tr>\n",
       "    <tr>\n",
       "      <th>Argentina</th>\n",
       "      <td>24.960</td>\n",
       "      <td>40.08</td>\n",
       "      <td>7.2</td>\n",
       "      <td>7879.0</td>\n",
       "      <td>0.7389</td>\n",
       "      <td>1.026000</td>\n",
       "      <td>0.15</td>\n",
       "      <td>0.24</td>\n",
       "    </tr>\n",
       "  </tbody>\n",
       "</table>\n",
       "</div>"
      ],
      "text/plain": [
       "             EmpRt_F_mean  EmpRt_M_mean  Democracy_mean  gdppercap_mean  \\\n",
       "Afghanistan        12.790         59.02            -4.3             NaN   \n",
       "Albania            38.160         34.80             4.1          1751.0   \n",
       "Algeria             8.609         32.45            -4.1          3344.0   \n",
       "Angola             24.920         28.73            -2.1          1649.0   \n",
       "Argentina          24.960         40.08             7.2          7879.0   \n",
       "\n",
       "             hdi_mean  EduRatio_F2M_mean  HIV_F_mean  HIV_M_mean  \n",
       "Afghanistan    0.3211           0.450000         NaN         NaN  \n",
       "Albania        0.6310           0.978000        0.10        0.10  \n",
       "Algeria        0.6087           0.889556        0.10        0.10  \n",
       "Angola         0.3865           0.804000        0.42        0.19  \n",
       "Argentina      0.7389           1.026000        0.15        0.24  "
      ]
     },
     "execution_count": 12,
     "metadata": {},
     "output_type": "execute_result"
    }
   ],
   "source": [
    "#load combined dataframe\n",
    "df_comb.head()"
   ]
  },
  {
   "cell_type": "code",
   "execution_count": 13,
   "metadata": {},
   "outputs": [
    {
     "name": "stdout",
     "output_type": "stream",
     "text": [
      "<class 'pandas.core.frame.DataFrame'>\n",
      "Index: 195 entries, Afghanistan to Tuvalu\n",
      "Data columns (total 8 columns):\n",
      "EmpRt_F_mean         179 non-null float64\n",
      "EmpRt_M_mean         179 non-null float64\n",
      "Democracy_mean       162 non-null float64\n",
      "gdppercap_mean       184 non-null float64\n",
      "hdi_mean             167 non-null float64\n",
      "EduRatio_F2M_mean    168 non-null float64\n",
      "HIV_F_mean           133 non-null float64\n",
      "HIV_M_mean           133 non-null float64\n",
      "dtypes: float64(8)\n",
      "memory usage: 13.7+ KB\n"
     ]
    }
   ],
   "source": [
    "#check current status of dataframe, and see if data type need to be changed or missing data need to be removed;\n",
    "df_comb.info()"
   ]
  },
  {
   "cell_type": "code",
   "execution_count": 14,
   "metadata": {},
   "outputs": [
    {
     "data": {
      "text/plain": [
       "(195, 8)"
      ]
     },
     "execution_count": 14,
     "metadata": {},
     "output_type": "execute_result"
    }
   ],
   "source": [
    "df_comb.shape"
   ]
  },
  {
   "cell_type": "markdown",
   "metadata": {},
   "source": [
    "### Data Cleaning (remove missing rows and change column names)"
   ]
  },
  {
   "cell_type": "code",
   "execution_count": 15,
   "metadata": {},
   "outputs": [
    {
     "data": {
      "text/html": [
       "<div>\n",
       "<style scoped>\n",
       "    .dataframe tbody tr th:only-of-type {\n",
       "        vertical-align: middle;\n",
       "    }\n",
       "\n",
       "    .dataframe tbody tr th {\n",
       "        vertical-align: top;\n",
       "    }\n",
       "\n",
       "    .dataframe thead th {\n",
       "        text-align: right;\n",
       "    }\n",
       "</style>\n",
       "<table border=\"1\" class=\"dataframe\">\n",
       "  <thead>\n",
       "    <tr style=\"text-align: right;\">\n",
       "      <th></th>\n",
       "      <th>EmpRt_F_mean</th>\n",
       "      <th>EmpRt_M_mean</th>\n",
       "      <th>Democracy_mean</th>\n",
       "      <th>gdppercap_mean</th>\n",
       "      <th>hdi_mean</th>\n",
       "      <th>EduRatio_F2M_mean</th>\n",
       "      <th>HIV_F_mean</th>\n",
       "      <th>HIV_M_mean</th>\n",
       "    </tr>\n",
       "  </thead>\n",
       "  <tbody>\n",
       "    <tr>\n",
       "      <th>Albania</th>\n",
       "      <td>38.160</td>\n",
       "      <td>34.80</td>\n",
       "      <td>4.1</td>\n",
       "      <td>1751.0</td>\n",
       "      <td>0.6310</td>\n",
       "      <td>0.978000</td>\n",
       "      <td>0.10</td>\n",
       "      <td>0.10</td>\n",
       "    </tr>\n",
       "    <tr>\n",
       "      <th>Algeria</th>\n",
       "      <td>8.609</td>\n",
       "      <td>32.45</td>\n",
       "      <td>-4.1</td>\n",
       "      <td>3344.0</td>\n",
       "      <td>0.6087</td>\n",
       "      <td>0.889556</td>\n",
       "      <td>0.10</td>\n",
       "      <td>0.10</td>\n",
       "    </tr>\n",
       "    <tr>\n",
       "      <th>Angola</th>\n",
       "      <td>24.920</td>\n",
       "      <td>28.73</td>\n",
       "      <td>-2.1</td>\n",
       "      <td>1649.0</td>\n",
       "      <td>0.3865</td>\n",
       "      <td>0.804000</td>\n",
       "      <td>0.42</td>\n",
       "      <td>0.19</td>\n",
       "    </tr>\n",
       "    <tr>\n",
       "      <th>Argentina</th>\n",
       "      <td>24.960</td>\n",
       "      <td>40.08</td>\n",
       "      <td>7.2</td>\n",
       "      <td>7879.0</td>\n",
       "      <td>0.7389</td>\n",
       "      <td>1.026000</td>\n",
       "      <td>0.15</td>\n",
       "      <td>0.24</td>\n",
       "    </tr>\n",
       "    <tr>\n",
       "      <th>Armenia</th>\n",
       "      <td>19.430</td>\n",
       "      <td>31.47</td>\n",
       "      <td>3.4</td>\n",
       "      <td>1171.1</td>\n",
       "      <td>0.6158</td>\n",
       "      <td>1.070000</td>\n",
       "      <td>0.10</td>\n",
       "      <td>0.10</td>\n",
       "    </tr>\n",
       "  </tbody>\n",
       "</table>\n",
       "</div>"
      ],
      "text/plain": [
       "           EmpRt_F_mean  EmpRt_M_mean  Democracy_mean  gdppercap_mean  \\\n",
       "Albania          38.160         34.80             4.1          1751.0   \n",
       "Algeria           8.609         32.45            -4.1          3344.0   \n",
       "Angola           24.920         28.73            -2.1          1649.0   \n",
       "Argentina        24.960         40.08             7.2          7879.0   \n",
       "Armenia          19.430         31.47             3.4          1171.1   \n",
       "\n",
       "           hdi_mean  EduRatio_F2M_mean  HIV_F_mean  HIV_M_mean  \n",
       "Albania      0.6310           0.978000        0.10        0.10  \n",
       "Algeria      0.6087           0.889556        0.10        0.10  \n",
       "Angola       0.3865           0.804000        0.42        0.19  \n",
       "Argentina    0.7389           1.026000        0.15        0.24  \n",
       "Armenia      0.6158           1.070000        0.10        0.10  "
      ]
     },
     "execution_count": 15,
     "metadata": {},
     "output_type": "execute_result"
    }
   ],
   "source": [
    "#No need to unify data type but need to clean missing values\n",
    "#Remove all rows with missing value and create new dataframe\n",
    "df_comb_2=df_comb.dropna()\n",
    "df_comb_2.head()"
   ]
  },
  {
   "cell_type": "code",
   "execution_count": 16,
   "metadata": {},
   "outputs": [],
   "source": [
    "#save cleaned dataframe to 'combined_v2.csv'\n",
    "df_comb_2.to_csv('combined_v2.csv')"
   ]
  },
  {
   "cell_type": "code",
   "execution_count": 17,
   "metadata": {},
   "outputs": [
    {
     "data": {
      "text/plain": [
       "EmpRt_F_mean         0\n",
       "EmpRt_M_mean         0\n",
       "Democracy_mean       0\n",
       "gdppercap_mean       0\n",
       "hdi_mean             0\n",
       "EduRatio_F2M_mean    0\n",
       "HIV_F_mean           0\n",
       "HIV_M_mean           0\n",
       "dtype: int64"
      ]
     },
     "execution_count": 17,
     "metadata": {},
     "output_type": "execute_result"
    }
   ],
   "source": [
    "#check if new dataframe has missing value\n",
    "df_comb_2.isnull().sum()"
   ]
  },
  {
   "cell_type": "code",
   "execution_count": 18,
   "metadata": {},
   "outputs": [
    {
     "data": {
      "text/html": [
       "<div>\n",
       "<style scoped>\n",
       "    .dataframe tbody tr th:only-of-type {\n",
       "        vertical-align: middle;\n",
       "    }\n",
       "\n",
       "    .dataframe tbody tr th {\n",
       "        vertical-align: top;\n",
       "    }\n",
       "\n",
       "    .dataframe thead th {\n",
       "        text-align: right;\n",
       "    }\n",
       "</style>\n",
       "<table border=\"1\" class=\"dataframe\">\n",
       "  <thead>\n",
       "    <tr style=\"text-align: right;\">\n",
       "      <th></th>\n",
       "      <th>emprt_f</th>\n",
       "      <th>emprt_m</th>\n",
       "      <th>democracy</th>\n",
       "      <th>gdppercap</th>\n",
       "      <th>hdi</th>\n",
       "      <th>eduratio_f2m</th>\n",
       "      <th>hiv_f</th>\n",
       "      <th>hiv_m</th>\n",
       "    </tr>\n",
       "  </thead>\n",
       "  <tbody>\n",
       "    <tr>\n",
       "      <th>Albania</th>\n",
       "      <td>38.160</td>\n",
       "      <td>34.80</td>\n",
       "      <td>4.1</td>\n",
       "      <td>1751.0</td>\n",
       "      <td>0.6310</td>\n",
       "      <td>0.978000</td>\n",
       "      <td>0.10</td>\n",
       "      <td>0.10</td>\n",
       "    </tr>\n",
       "    <tr>\n",
       "      <th>Algeria</th>\n",
       "      <td>8.609</td>\n",
       "      <td>32.45</td>\n",
       "      <td>-4.1</td>\n",
       "      <td>3344.0</td>\n",
       "      <td>0.6087</td>\n",
       "      <td>0.889556</td>\n",
       "      <td>0.10</td>\n",
       "      <td>0.10</td>\n",
       "    </tr>\n",
       "    <tr>\n",
       "      <th>Angola</th>\n",
       "      <td>24.920</td>\n",
       "      <td>28.73</td>\n",
       "      <td>-2.1</td>\n",
       "      <td>1649.0</td>\n",
       "      <td>0.3865</td>\n",
       "      <td>0.804000</td>\n",
       "      <td>0.42</td>\n",
       "      <td>0.19</td>\n",
       "    </tr>\n",
       "    <tr>\n",
       "      <th>Argentina</th>\n",
       "      <td>24.960</td>\n",
       "      <td>40.08</td>\n",
       "      <td>7.2</td>\n",
       "      <td>7879.0</td>\n",
       "      <td>0.7389</td>\n",
       "      <td>1.026000</td>\n",
       "      <td>0.15</td>\n",
       "      <td>0.24</td>\n",
       "    </tr>\n",
       "    <tr>\n",
       "      <th>Armenia</th>\n",
       "      <td>19.430</td>\n",
       "      <td>31.47</td>\n",
       "      <td>3.4</td>\n",
       "      <td>1171.1</td>\n",
       "      <td>0.6158</td>\n",
       "      <td>1.070000</td>\n",
       "      <td>0.10</td>\n",
       "      <td>0.10</td>\n",
       "    </tr>\n",
       "  </tbody>\n",
       "</table>\n",
       "</div>"
      ],
      "text/plain": [
       "           emprt_f  emprt_m  democracy  gdppercap     hdi  eduratio_f2m  \\\n",
       "Albania     38.160    34.80        4.1     1751.0  0.6310      0.978000   \n",
       "Algeria      8.609    32.45       -4.1     3344.0  0.6087      0.889556   \n",
       "Angola      24.920    28.73       -2.1     1649.0  0.3865      0.804000   \n",
       "Argentina   24.960    40.08        7.2     7879.0  0.7389      1.026000   \n",
       "Armenia     19.430    31.47        3.4     1171.1  0.6158      1.070000   \n",
       "\n",
       "           hiv_f  hiv_m  \n",
       "Albania     0.10   0.10  \n",
       "Algeria     0.10   0.10  \n",
       "Angola      0.42   0.19  \n",
       "Argentina   0.15   0.24  \n",
       "Armenia     0.10   0.10  "
      ]
     },
     "execution_count": 18,
     "metadata": {},
     "output_type": "execute_result"
    }
   ],
   "source": [
    "#rename column labels by take out '_mean' and make lowercase\n",
    "df_comb_3=df_comb_2.rename(columns=lambda x: x.strip('_mean').lower())\n",
    "df_comb_3.head()"
   ]
  },
  {
   "cell_type": "code",
   "execution_count": 19,
   "metadata": {
    "scrolled": false
   },
   "outputs": [],
   "source": [
    "#Selectively change first two column names to make it easier to read\n",
    "df_comb_3.rename(columns={'emprt_f':'employ_f','emprt_m':'employ_m'},inplace=True)"
   ]
  },
  {
   "cell_type": "code",
   "execution_count": 20,
   "metadata": {},
   "outputs": [
    {
     "data": {
      "text/html": [
       "<div>\n",
       "<style scoped>\n",
       "    .dataframe tbody tr th:only-of-type {\n",
       "        vertical-align: middle;\n",
       "    }\n",
       "\n",
       "    .dataframe tbody tr th {\n",
       "        vertical-align: top;\n",
       "    }\n",
       "\n",
       "    .dataframe thead th {\n",
       "        text-align: right;\n",
       "    }\n",
       "</style>\n",
       "<table border=\"1\" class=\"dataframe\">\n",
       "  <thead>\n",
       "    <tr style=\"text-align: right;\">\n",
       "      <th></th>\n",
       "      <th>employ_f</th>\n",
       "      <th>employ_m</th>\n",
       "      <th>democracy</th>\n",
       "      <th>gdppercap</th>\n",
       "      <th>hdi</th>\n",
       "      <th>eduratio_f2m</th>\n",
       "      <th>hiv_f</th>\n",
       "      <th>hiv_m</th>\n",
       "    </tr>\n",
       "  </thead>\n",
       "  <tbody>\n",
       "    <tr>\n",
       "      <th>Albania</th>\n",
       "      <td>38.160</td>\n",
       "      <td>34.80</td>\n",
       "      <td>4.1</td>\n",
       "      <td>1751.0</td>\n",
       "      <td>0.6310</td>\n",
       "      <td>0.978000</td>\n",
       "      <td>0.10</td>\n",
       "      <td>0.10</td>\n",
       "    </tr>\n",
       "    <tr>\n",
       "      <th>Algeria</th>\n",
       "      <td>8.609</td>\n",
       "      <td>32.45</td>\n",
       "      <td>-4.1</td>\n",
       "      <td>3344.0</td>\n",
       "      <td>0.6087</td>\n",
       "      <td>0.889556</td>\n",
       "      <td>0.10</td>\n",
       "      <td>0.10</td>\n",
       "    </tr>\n",
       "    <tr>\n",
       "      <th>Angola</th>\n",
       "      <td>24.920</td>\n",
       "      <td>28.73</td>\n",
       "      <td>-2.1</td>\n",
       "      <td>1649.0</td>\n",
       "      <td>0.3865</td>\n",
       "      <td>0.804000</td>\n",
       "      <td>0.42</td>\n",
       "      <td>0.19</td>\n",
       "    </tr>\n",
       "    <tr>\n",
       "      <th>Argentina</th>\n",
       "      <td>24.960</td>\n",
       "      <td>40.08</td>\n",
       "      <td>7.2</td>\n",
       "      <td>7879.0</td>\n",
       "      <td>0.7389</td>\n",
       "      <td>1.026000</td>\n",
       "      <td>0.15</td>\n",
       "      <td>0.24</td>\n",
       "    </tr>\n",
       "    <tr>\n",
       "      <th>Armenia</th>\n",
       "      <td>19.430</td>\n",
       "      <td>31.47</td>\n",
       "      <td>3.4</td>\n",
       "      <td>1171.1</td>\n",
       "      <td>0.6158</td>\n",
       "      <td>1.070000</td>\n",
       "      <td>0.10</td>\n",
       "      <td>0.10</td>\n",
       "    </tr>\n",
       "  </tbody>\n",
       "</table>\n",
       "</div>"
      ],
      "text/plain": [
       "           employ_f  employ_m  democracy  gdppercap     hdi  eduratio_f2m  \\\n",
       "Albania      38.160     34.80        4.1     1751.0  0.6310      0.978000   \n",
       "Algeria       8.609     32.45       -4.1     3344.0  0.6087      0.889556   \n",
       "Angola       24.920     28.73       -2.1     1649.0  0.3865      0.804000   \n",
       "Argentina    24.960     40.08        7.2     7879.0  0.7389      1.026000   \n",
       "Armenia      19.430     31.47        3.4     1171.1  0.6158      1.070000   \n",
       "\n",
       "           hiv_f  hiv_m  \n",
       "Albania     0.10   0.10  \n",
       "Algeria     0.10   0.10  \n",
       "Angola      0.42   0.19  \n",
       "Argentina   0.15   0.24  \n",
       "Armenia     0.10   0.10  "
      ]
     },
     "execution_count": 20,
     "metadata": {},
     "output_type": "execute_result"
    }
   ],
   "source": [
    "df_comb_3.head()"
   ]
  },
  {
   "cell_type": "code",
   "execution_count": 21,
   "metadata": {},
   "outputs": [
    {
     "name": "stdout",
     "output_type": "stream",
     "text": [
      "<class 'pandas.core.frame.DataFrame'>\n",
      "Index: 109 entries, Albania to Zimbabwe\n",
      "Data columns (total 8 columns):\n",
      "employ_f        109 non-null float64\n",
      "employ_m        109 non-null float64\n",
      "democracy       109 non-null float64\n",
      "gdppercap       109 non-null float64\n",
      "hdi             109 non-null float64\n",
      "eduratio_f2m    109 non-null float64\n",
      "hiv_f           109 non-null float64\n",
      "hiv_m           109 non-null float64\n",
      "dtypes: float64(8)\n",
      "memory usage: 7.7+ KB\n"
     ]
    }
   ],
   "source": [
    "#check the condition of the new dataframe\n",
    "df_comb_3.info()"
   ]
  },
  {
   "cell_type": "code",
   "execution_count": 22,
   "metadata": {},
   "outputs": [
    {
     "data": {
      "text/plain": [
       "0"
      ]
     },
     "execution_count": 22,
     "metadata": {},
     "output_type": "execute_result"
    }
   ],
   "source": [
    "#check if the new dataframe has missing data\n",
    "df_comb_3.isnull().sum().sum()"
   ]
  },
  {
   "cell_type": "code",
   "execution_count": 23,
   "metadata": {},
   "outputs": [],
   "source": [
    "#save cleaned dataframe to 'combined_v3.csv'\n",
    "df_comb_3.to_csv('combined_v3.csv')"
   ]
  },
  {
   "cell_type": "markdown",
   "metadata": {},
   "source": [
    "<a id='eda'></a>\n",
    "## Exploratory Data Analysis\n"
   ]
  },
  {
   "cell_type": "markdown",
   "metadata": {},
   "source": [
    "### Observation 0: General visualization of data"
   ]
  },
  {
   "cell_type": "code",
   "execution_count": 24,
   "metadata": {},
   "outputs": [
    {
     "data": {
      "image/png": "[encoded data removed]",
      "text/plain": [
       "<matplotlib.figure.Figure at 0x7f75073de0f0>"
      ]
     },
     "metadata": {
      "needs_background": "light"
     },
     "output_type": "display_data"
    }
   ],
   "source": [
    "# generate histogram of each column to see how data is distributed;\n",
    "df_comb_3.hist(figsize=(8,8));"
   ]
  },
  {
   "cell_type": "code",
   "execution_count": 25,
   "metadata": {},
   "outputs": [
    {
     "data": {
      "text/plain": [
       "employ_f        False\n",
       "employ_m        False\n",
       "democracy       False\n",
       "gdppercap       False\n",
       "hdi             False\n",
       "eduratio_f2m    False\n",
       "hiv_f           False\n",
       "hiv_m           False\n",
       "dtype: bool"
      ]
     },
     "execution_count": 25,
     "metadata": {},
     "output_type": "execute_result"
    }
   ],
   "source": [
    "#check if any column is a normal distribution\n",
    "(df_comb_3.mean()/df_comb_3.median())==1"
   ]
  },
  {
   "cell_type": "code",
   "execution_count": 26,
   "metadata": {},
   "outputs": [
    {
     "data": {
      "text/plain": [
       "employ_f         True\n",
       "employ_m         True\n",
       "democracy       False\n",
       "gdppercap        True\n",
       "hdi             False\n",
       "eduratio_f2m    False\n",
       "hiv_f            True\n",
       "hiv_m            True\n",
       "dtype: bool"
      ]
     },
     "execution_count": 26,
     "metadata": {},
     "output_type": "execute_result"
    }
   ],
   "source": [
    "#check if any column is positive or negative skewed\n",
    "(df_comb_3.mean()/df_comb_3.median())>1"
   ]
  },
  {
   "cell_type": "markdown",
   "metadata": {},
   "source": [
    "#### Conclusion 0: \n",
    "1. All data series are not normal distribution.\n",
    "2. Right skewed series (5):employ_f, employ_m, gdppercap, hiv_f, hiv_m\n",
    "3. Left skewed series (3):democracy, hdi, eduratio_f2m"
   ]
  },
  {
   "cell_type": "markdown",
   "metadata": {},
   "source": [
    "### Research Question 1  (Which country has the highest HIV prevalence rate for male and female?)"
   ]
  },
  {
   "cell_type": "code",
   "execution_count": 27,
   "metadata": {
    "scrolled": true
   },
   "outputs": [
    {
     "data": {
      "text/html": [
       "<div>\n",
       "<style scoped>\n",
       "    .dataframe tbody tr th:only-of-type {\n",
       "        vertical-align: middle;\n",
       "    }\n",
       "\n",
       "    .dataframe tbody tr th {\n",
       "        vertical-align: top;\n",
       "    }\n",
       "\n",
       "    .dataframe thead th {\n",
       "        text-align: right;\n",
       "    }\n",
       "</style>\n",
       "<table border=\"1\" class=\"dataframe\">\n",
       "  <thead>\n",
       "    <tr style=\"text-align: right;\">\n",
       "      <th></th>\n",
       "      <th>employ_f</th>\n",
       "      <th>employ_m</th>\n",
       "      <th>democracy</th>\n",
       "      <th>gdppercap</th>\n",
       "      <th>hdi</th>\n",
       "      <th>eduratio_f2m</th>\n",
       "      <th>hiv_f</th>\n",
       "      <th>hiv_m</th>\n",
       "    </tr>\n",
       "  </thead>\n",
       "  <tbody>\n",
       "    <tr>\n",
       "      <th>count</th>\n",
       "      <td>109.000000</td>\n",
       "      <td>109.000000</td>\n",
       "      <td>109.000000</td>\n",
       "      <td>109.000000</td>\n",
       "      <td>109.000000</td>\n",
       "      <td>109.000000</td>\n",
       "      <td>109.000000</td>\n",
       "      <td>109.000000</td>\n",
       "    </tr>\n",
       "    <tr>\n",
       "      <th>mean</th>\n",
       "      <td>36.720771</td>\n",
       "      <td>48.722477</td>\n",
       "      <td>2.689450</td>\n",
       "      <td>8067.264883</td>\n",
       "      <td>0.580611</td>\n",
       "      <td>0.925374</td>\n",
       "      <td>1.525321</td>\n",
       "      <td>0.692110</td>\n",
       "    </tr>\n",
       "    <tr>\n",
       "      <th>std</th>\n",
       "      <td>16.281421</td>\n",
       "      <td>14.104704</td>\n",
       "      <td>6.103407</td>\n",
       "      <td>13621.373719</td>\n",
       "      <td>0.170344</td>\n",
       "      <td>0.142224</td>\n",
       "      <td>3.421108</td>\n",
       "      <td>1.304125</td>\n",
       "    </tr>\n",
       "    <tr>\n",
       "      <th>min</th>\n",
       "      <td>8.052000</td>\n",
       "      <td>18.120000</td>\n",
       "      <td>-10.000000</td>\n",
       "      <td>186.300000</td>\n",
       "      <td>0.234600</td>\n",
       "      <td>0.472800</td>\n",
       "      <td>0.100000</td>\n",
       "      <td>0.100000</td>\n",
       "    </tr>\n",
       "    <tr>\n",
       "      <th>25%</th>\n",
       "      <td>24.910000</td>\n",
       "      <td>37.770000</td>\n",
       "      <td>-3.000000</td>\n",
       "      <td>811.700000</td>\n",
       "      <td>0.436500</td>\n",
       "      <td>0.869222</td>\n",
       "      <td>0.100000</td>\n",
       "      <td>0.100000</td>\n",
       "    </tr>\n",
       "    <tr>\n",
       "      <th>50%</th>\n",
       "      <td>33.350000</td>\n",
       "      <td>47.420000</td>\n",
       "      <td>4.000000</td>\n",
       "      <td>2251.500000</td>\n",
       "      <td>0.607800</td>\n",
       "      <td>0.985000</td>\n",
       "      <td>0.110000</td>\n",
       "      <td>0.170000</td>\n",
       "    </tr>\n",
       "    <tr>\n",
       "      <th>75%</th>\n",
       "      <td>47.670000</td>\n",
       "      <td>58.000000</td>\n",
       "      <td>8.100000</td>\n",
       "      <td>7572.000000</td>\n",
       "      <td>0.702400</td>\n",
       "      <td>1.017500</td>\n",
       "      <td>0.860000</td>\n",
       "      <td>0.590000</td>\n",
       "    </tr>\n",
       "    <tr>\n",
       "      <th>max</th>\n",
       "      <td>81.060000</td>\n",
       "      <td>82.160000</td>\n",
       "      <td>10.000000</td>\n",
       "      <td>71990.000000</td>\n",
       "      <td>0.887100</td>\n",
       "      <td>1.195556</td>\n",
       "      <td>19.760000</td>\n",
       "      <td>7.810000</td>\n",
       "    </tr>\n",
       "  </tbody>\n",
       "</table>\n",
       "</div>"
      ],
      "text/plain": [
       "         employ_f    employ_m   democracy     gdppercap         hdi  \\\n",
       "count  109.000000  109.000000  109.000000    109.000000  109.000000   \n",
       "mean    36.720771   48.722477    2.689450   8067.264883    0.580611   \n",
       "std     16.281421   14.104704    6.103407  13621.373719    0.170344   \n",
       "min      8.052000   18.120000  -10.000000    186.300000    0.234600   \n",
       "25%     24.910000   37.770000   -3.000000    811.700000    0.436500   \n",
       "50%     33.350000   47.420000    4.000000   2251.500000    0.607800   \n",
       "75%     47.670000   58.000000    8.100000   7572.000000    0.702400   \n",
       "max     81.060000   82.160000   10.000000  71990.000000    0.887100   \n",
       "\n",
       "       eduratio_f2m       hiv_f       hiv_m  \n",
       "count    109.000000  109.000000  109.000000  \n",
       "mean       0.925374    1.525321    0.692110  \n",
       "std        0.142224    3.421108    1.304125  \n",
       "min        0.472800    0.100000    0.100000  \n",
       "25%        0.869222    0.100000    0.100000  \n",
       "50%        0.985000    0.110000    0.170000  \n",
       "75%        1.017500    0.860000    0.590000  \n",
       "max        1.195556   19.760000    7.810000  "
      ]
     },
     "execution_count": 27,
     "metadata": {},
     "output_type": "execute_result"
    }
   ],
   "source": [
    "#check the max bound of hiv prevalence rate, max hiv rate for female is 19.76%, max hiv rate for male is 7.81%\n",
    "df_comb_3.describe()"
   ]
  },
  {
   "cell_type": "markdown",
   "metadata": {},
   "source": [
    "##### Check which country has the highest  female hiv rate"
   ]
  },
  {
   "cell_type": "code",
   "execution_count": 28,
   "metadata": {
    "scrolled": true
   },
   "outputs": [
    {
     "data": {
      "text/html": [
       "<div>\n",
       "<style scoped>\n",
       "    .dataframe tbody tr th:only-of-type {\n",
       "        vertical-align: middle;\n",
       "    }\n",
       "\n",
       "    .dataframe tbody tr th {\n",
       "        vertical-align: top;\n",
       "    }\n",
       "\n",
       "    .dataframe thead th {\n",
       "        text-align: right;\n",
       "    }\n",
       "</style>\n",
       "<table border=\"1\" class=\"dataframe\">\n",
       "  <thead>\n",
       "    <tr style=\"text-align: right;\">\n",
       "      <th></th>\n",
       "      <th>employ_f</th>\n",
       "      <th>employ_m</th>\n",
       "      <th>democracy</th>\n",
       "      <th>gdppercap</th>\n",
       "      <th>hdi</th>\n",
       "      <th>eduratio_f2m</th>\n",
       "      <th>hiv_f</th>\n",
       "      <th>hiv_m</th>\n",
       "    </tr>\n",
       "  </thead>\n",
       "  <tbody>\n",
       "    <tr>\n",
       "      <th>Zimbabwe</th>\n",
       "      <td>47.49</td>\n",
       "      <td>50.43</td>\n",
       "      <td>-5.4</td>\n",
       "      <td>1264.0</td>\n",
       "      <td>0.462</td>\n",
       "      <td>0.940167</td>\n",
       "      <td>19.76</td>\n",
       "      <td>7.64</td>\n",
       "    </tr>\n",
       "  </tbody>\n",
       "</table>\n",
       "</div>"
      ],
      "text/plain": [
       "          employ_f  employ_m  democracy  gdppercap    hdi  eduratio_f2m  \\\n",
       "Zimbabwe     47.49     50.43       -5.4     1264.0  0.462      0.940167   \n",
       "\n",
       "          hiv_f  hiv_m  \n",
       "Zimbabwe  19.76   7.64  "
      ]
     },
     "execution_count": 28,
     "metadata": {},
     "output_type": "execute_result"
    }
   ],
   "source": [
    "#who has the highest female hiv rate\n",
    "df_comb_3.query('hiv_f>19.75')"
   ]
  },
  {
   "cell_type": "markdown",
   "metadata": {},
   "source": [
    "##### Check which country has the highest male hiv rate"
   ]
  },
  {
   "cell_type": "code",
   "execution_count": 29,
   "metadata": {
    "scrolled": false
   },
   "outputs": [
    {
     "data": {
      "text/html": [
       "<div>\n",
       "<style scoped>\n",
       "    .dataframe tbody tr th:only-of-type {\n",
       "        vertical-align: middle;\n",
       "    }\n",
       "\n",
       "    .dataframe tbody tr th {\n",
       "        vertical-align: top;\n",
       "    }\n",
       "\n",
       "    .dataframe thead th {\n",
       "        text-align: right;\n",
       "    }\n",
       "</style>\n",
       "<table border=\"1\" class=\"dataframe\">\n",
       "  <thead>\n",
       "    <tr style=\"text-align: right;\">\n",
       "      <th></th>\n",
       "      <th>employ_f</th>\n",
       "      <th>employ_m</th>\n",
       "      <th>democracy</th>\n",
       "      <th>gdppercap</th>\n",
       "      <th>hdi</th>\n",
       "      <th>eduratio_f2m</th>\n",
       "      <th>hiv_f</th>\n",
       "      <th>hiv_m</th>\n",
       "    </tr>\n",
       "  </thead>\n",
       "  <tbody>\n",
       "    <tr>\n",
       "      <th>Botswana</th>\n",
       "      <td>24.84</td>\n",
       "      <td>35.71</td>\n",
       "      <td>7.4</td>\n",
       "      <td>4388.0</td>\n",
       "      <td>0.576</td>\n",
       "      <td>1.04625</td>\n",
       "      <td>19.62</td>\n",
       "      <td>7.81</td>\n",
       "    </tr>\n",
       "  </tbody>\n",
       "</table>\n",
       "</div>"
      ],
      "text/plain": [
       "          employ_f  employ_m  democracy  gdppercap    hdi  eduratio_f2m  \\\n",
       "Botswana     24.84     35.71        7.4     4388.0  0.576       1.04625   \n",
       "\n",
       "          hiv_f  hiv_m  \n",
       "Botswana  19.62   7.81  "
      ]
     },
     "execution_count": 29,
     "metadata": {},
     "output_type": "execute_result"
    }
   ],
   "source": [
    "#who has the highest male hiv rate\n",
    "df_comb_3.query('hiv_m>7.80')"
   ]
  },
  {
   "cell_type": "markdown",
   "metadata": {},
   "source": [
    "#### Conclusion 1: \n",
    "1. Zimbabwe has the highest female HIV prevalence for age group of 15-24 years old;\n",
    "2. Botswana has the highest male HIV prevalence for age group of 15-24 years old;\n",
    "3. Both of those countries seems to have high HIV prevalence for both sex;\n",
    "4. For those two countries in this age group, HIV prevalence in female is more than twice higher than male's prevalence."
   ]
  },
  {
   "cell_type": "markdown",
   "metadata": {},
   "source": [
    "### Research Question 2  (How is female HIV prevalence related to male HIV prevalence?)"
   ]
  },
  {
   "cell_type": "markdown",
   "metadata": {},
   "source": [
    "##### Scatter plot female hiv prevalence rate over male's rate using whole dataframe (df_comb_3)"
   ]
  },
  {
   "cell_type": "code",
   "execution_count": 30,
   "metadata": {
    "scrolled": false
   },
   "outputs": [
    {
     "data": {
      "image/png": "[encoded data removed]",
      "text/plain": [
       "<matplotlib.figure.Figure at 0x7f75047d9e80>"
      ]
     },
     "metadata": {
      "needs_background": "light"
     },
     "output_type": "display_data"
    }
   ],
   "source": [
    "# scatter plot female hiv prevalence rate over male's rate\n",
    "x = df_comb_3['hiv_m']\n",
    "y = df_comb_3['hiv_f']\n",
    "plt.scatter(x, y)\n",
    "\n",
    "z = np.polyfit(x, y, 1)\n",
    "p = np.poly1d(z)\n",
    "plt.plot(x,p(x),\"r--\")\n",
    "\n",
    "plt.title('female/male <age 15-24> HIV prevalence correlation')\n",
    "plt.xlabel('hiv_male')\n",
    "plt.ylabel('hiv_female')\n",
    "plt.show()"
   ]
  },
  {
   "cell_type": "code",
   "execution_count": 51,
   "metadata": {
    "scrolled": true
   },
   "outputs": [],
   "source": [
    "#For whole dataset, what is the mean ratio between female and male HIV prevalence\n",
    "mean_hiv_f2m=(df_comb_3['hiv_f']/df_comb_3['hiv_m']).mean()"
   ]
  },
  {
   "cell_type": "code",
   "execution_count": 75,
   "metadata": {},
   "outputs": [
    {
     "name": "stdout",
     "output_type": "stream",
     "text": [
      "1.47150176161\n"
     ]
    }
   ],
   "source": [
    "print (mean_hiv_f2m)"
   ]
  },
  {
   "cell_type": "markdown",
   "metadata": {},
   "source": [
    "#### Conclusion 2: \n",
    "1. Based on the observation of scatter plot, HIV prevalence for female and male in different countries seems to have a strong positive correlation.\n",
    "2. A hypothesis based on the observation is the positive correlation may be related to sexual activity.\n",
    "3. Based on the observation of scatter plot, most data are crowded in the lower left side of the graph because the data for HIV is heavily right skewed.\n",
    "4. For whole dataframe, female HIV prevalence is around 1.47 times more than male."
   ]
  },
  {
   "cell_type": "markdown",
   "metadata": {},
   "source": [
    "#### Reorgnize dataframe based on different level of HIV prevalence "
   ]
  },
  {
   "cell_type": "code",
   "execution_count": 32,
   "metadata": {},
   "outputs": [],
   "source": [
    "# devide hiv_female into 3 levels according to min, 25%, 75% and max\n",
    "# create new column 'hivf_level'\n",
    "bin_edges_hivf=[0,0.1,0.86,20]\n",
    "bin_names_hivf=['low','medium','high']\n",
    "df_comb_3['hivf_level']=pd.cut(df_comb_3['hiv_f'],bin_edges_hivf,labels=bin_names_hivf)"
   ]
  },
  {
   "cell_type": "code",
   "execution_count": 33,
   "metadata": {},
   "outputs": [],
   "source": [
    "# devide hiv_male into 3 levels according to min, 25%, 75% and max\n",
    "# create new column 'hivm_level'\n",
    "bin_edges_hivm=[0,0.1,0.59,8]\n",
    "bin_names_hivm=['low','medium','high']\n",
    "df_comb_3['hivm_level']=pd.cut(df_comb_3['hiv_m'],bin_edges_hivm,labels=bin_names_hivm)"
   ]
  },
  {
   "cell_type": "code",
   "execution_count": 34,
   "metadata": {
    "scrolled": true
   },
   "outputs": [
    {
     "data": {
      "text/html": [
       "<div>\n",
       "<style scoped>\n",
       "    .dataframe tbody tr th:only-of-type {\n",
       "        vertical-align: middle;\n",
       "    }\n",
       "\n",
       "    .dataframe tbody tr th {\n",
       "        vertical-align: top;\n",
       "    }\n",
       "\n",
       "    .dataframe thead th {\n",
       "        text-align: right;\n",
       "    }\n",
       "</style>\n",
       "<table border=\"1\" class=\"dataframe\">\n",
       "  <thead>\n",
       "    <tr style=\"text-align: right;\">\n",
       "      <th></th>\n",
       "      <th>employ_f</th>\n",
       "      <th>employ_m</th>\n",
       "      <th>democracy</th>\n",
       "      <th>gdppercap</th>\n",
       "      <th>hdi</th>\n",
       "      <th>eduratio_f2m</th>\n",
       "      <th>hiv_f</th>\n",
       "      <th>hiv_m</th>\n",
       "      <th>hivf_level</th>\n",
       "      <th>hivm_level</th>\n",
       "    </tr>\n",
       "  </thead>\n",
       "  <tbody>\n",
       "    <tr>\n",
       "      <th>Albania</th>\n",
       "      <td>38.160</td>\n",
       "      <td>34.80</td>\n",
       "      <td>4.1</td>\n",
       "      <td>1751.0</td>\n",
       "      <td>0.6310</td>\n",
       "      <td>0.978000</td>\n",
       "      <td>0.10</td>\n",
       "      <td>0.10</td>\n",
       "      <td>low</td>\n",
       "      <td>low</td>\n",
       "    </tr>\n",
       "    <tr>\n",
       "      <th>Algeria</th>\n",
       "      <td>8.609</td>\n",
       "      <td>32.45</td>\n",
       "      <td>-4.1</td>\n",
       "      <td>3344.0</td>\n",
       "      <td>0.6087</td>\n",
       "      <td>0.889556</td>\n",
       "      <td>0.10</td>\n",
       "      <td>0.10</td>\n",
       "      <td>low</td>\n",
       "      <td>low</td>\n",
       "    </tr>\n",
       "    <tr>\n",
       "      <th>Angola</th>\n",
       "      <td>24.920</td>\n",
       "      <td>28.73</td>\n",
       "      <td>-2.1</td>\n",
       "      <td>1649.0</td>\n",
       "      <td>0.3865</td>\n",
       "      <td>0.804000</td>\n",
       "      <td>0.42</td>\n",
       "      <td>0.19</td>\n",
       "      <td>medium</td>\n",
       "      <td>medium</td>\n",
       "    </tr>\n",
       "    <tr>\n",
       "      <th>Argentina</th>\n",
       "      <td>24.960</td>\n",
       "      <td>40.08</td>\n",
       "      <td>7.2</td>\n",
       "      <td>7879.0</td>\n",
       "      <td>0.7389</td>\n",
       "      <td>1.026000</td>\n",
       "      <td>0.15</td>\n",
       "      <td>0.24</td>\n",
       "      <td>medium</td>\n",
       "      <td>medium</td>\n",
       "    </tr>\n",
       "    <tr>\n",
       "      <th>Armenia</th>\n",
       "      <td>19.430</td>\n",
       "      <td>31.47</td>\n",
       "      <td>3.4</td>\n",
       "      <td>1171.1</td>\n",
       "      <td>0.6158</td>\n",
       "      <td>1.070000</td>\n",
       "      <td>0.10</td>\n",
       "      <td>0.10</td>\n",
       "      <td>low</td>\n",
       "      <td>low</td>\n",
       "    </tr>\n",
       "  </tbody>\n",
       "</table>\n",
       "</div>"
      ],
      "text/plain": [
       "           employ_f  employ_m  democracy  gdppercap     hdi  eduratio_f2m  \\\n",
       "Albania      38.160     34.80        4.1     1751.0  0.6310      0.978000   \n",
       "Algeria       8.609     32.45       -4.1     3344.0  0.6087      0.889556   \n",
       "Angola       24.920     28.73       -2.1     1649.0  0.3865      0.804000   \n",
       "Argentina    24.960     40.08        7.2     7879.0  0.7389      1.026000   \n",
       "Armenia      19.430     31.47        3.4     1171.1  0.6158      1.070000   \n",
       "\n",
       "           hiv_f  hiv_m hivf_level hivm_level  \n",
       "Albania     0.10   0.10        low        low  \n",
       "Algeria     0.10   0.10        low        low  \n",
       "Angola      0.42   0.19     medium     medium  \n",
       "Argentina   0.15   0.24     medium     medium  \n",
       "Armenia     0.10   0.10        low        low  "
      ]
     },
     "execution_count": 34,
     "metadata": {},
     "output_type": "execute_result"
    }
   ],
   "source": [
    "df_comb_3.head()"
   ]
  },
  {
   "cell_type": "code",
   "execution_count": 35,
   "metadata": {},
   "outputs": [
    {
     "data": {
      "text/plain": [
       "(109, 10)"
      ]
     },
     "execution_count": 35,
     "metadata": {},
     "output_type": "execute_result"
    }
   ],
   "source": [
    "df_comb_3.shape"
   ]
  },
  {
   "cell_type": "markdown",
   "metadata": {},
   "source": [
    "### Research Question 3  (How is female/ male HIV prevalence correlation for countries with lower than medium HIV prevalence lower than high level (below average)?)"
   ]
  },
  {
   "cell_type": "markdown",
   "metadata": {},
   "source": [
    "#### Creat a new dataframe for countries with below average HIV prevalence"
   ]
  },
  {
   "cell_type": "code",
   "execution_count": 36,
   "metadata": {
    "scrolled": true
   },
   "outputs": [],
   "source": [
    "#create another dataframe (where both female and male HIV prevalence are below average) to see if the conclusion in question2 is still true. \n",
    "df_comb_4=df_comb_3.query('hiv_f<1.525321 and hiv_f<0.692110')"
   ]
  },
  {
   "cell_type": "code",
   "execution_count": 37,
   "metadata": {
    "scrolled": false
   },
   "outputs": [
    {
     "data": {
      "text/html": [
       "<div>\n",
       "<style scoped>\n",
       "    .dataframe tbody tr th:only-of-type {\n",
       "        vertical-align: middle;\n",
       "    }\n",
       "\n",
       "    .dataframe tbody tr th {\n",
       "        vertical-align: top;\n",
       "    }\n",
       "\n",
       "    .dataframe thead th {\n",
       "        text-align: right;\n",
       "    }\n",
       "</style>\n",
       "<table border=\"1\" class=\"dataframe\">\n",
       "  <thead>\n",
       "    <tr style=\"text-align: right;\">\n",
       "      <th></th>\n",
       "      <th>employ_f</th>\n",
       "      <th>employ_m</th>\n",
       "      <th>democracy</th>\n",
       "      <th>gdppercap</th>\n",
       "      <th>hdi</th>\n",
       "      <th>eduratio_f2m</th>\n",
       "      <th>hiv_f</th>\n",
       "      <th>hiv_m</th>\n",
       "      <th>hivf_level</th>\n",
       "      <th>hivm_level</th>\n",
       "    </tr>\n",
       "  </thead>\n",
       "  <tbody>\n",
       "    <tr>\n",
       "      <th>Albania</th>\n",
       "      <td>38.160</td>\n",
       "      <td>34.80</td>\n",
       "      <td>4.1</td>\n",
       "      <td>1751.0</td>\n",
       "      <td>0.6310</td>\n",
       "      <td>0.978000</td>\n",
       "      <td>0.10</td>\n",
       "      <td>0.10</td>\n",
       "      <td>low</td>\n",
       "      <td>low</td>\n",
       "    </tr>\n",
       "    <tr>\n",
       "      <th>Algeria</th>\n",
       "      <td>8.609</td>\n",
       "      <td>32.45</td>\n",
       "      <td>-4.1</td>\n",
       "      <td>3344.0</td>\n",
       "      <td>0.6087</td>\n",
       "      <td>0.889556</td>\n",
       "      <td>0.10</td>\n",
       "      <td>0.10</td>\n",
       "      <td>low</td>\n",
       "      <td>low</td>\n",
       "    </tr>\n",
       "    <tr>\n",
       "      <th>Angola</th>\n",
       "      <td>24.920</td>\n",
       "      <td>28.73</td>\n",
       "      <td>-2.1</td>\n",
       "      <td>1649.0</td>\n",
       "      <td>0.3865</td>\n",
       "      <td>0.804000</td>\n",
       "      <td>0.42</td>\n",
       "      <td>0.19</td>\n",
       "      <td>medium</td>\n",
       "      <td>medium</td>\n",
       "    </tr>\n",
       "    <tr>\n",
       "      <th>Argentina</th>\n",
       "      <td>24.960</td>\n",
       "      <td>40.08</td>\n",
       "      <td>7.2</td>\n",
       "      <td>7879.0</td>\n",
       "      <td>0.7389</td>\n",
       "      <td>1.026000</td>\n",
       "      <td>0.15</td>\n",
       "      <td>0.24</td>\n",
       "      <td>medium</td>\n",
       "      <td>medium</td>\n",
       "    </tr>\n",
       "    <tr>\n",
       "      <th>Armenia</th>\n",
       "      <td>19.430</td>\n",
       "      <td>31.47</td>\n",
       "      <td>3.4</td>\n",
       "      <td>1171.1</td>\n",
       "      <td>0.6158</td>\n",
       "      <td>1.070000</td>\n",
       "      <td>0.10</td>\n",
       "      <td>0.10</td>\n",
       "      <td>low</td>\n",
       "      <td>low</td>\n",
       "    </tr>\n",
       "  </tbody>\n",
       "</table>\n",
       "</div>"
      ],
      "text/plain": [
       "           employ_f  employ_m  democracy  gdppercap     hdi  eduratio_f2m  \\\n",
       "Albania      38.160     34.80        4.1     1751.0  0.6310      0.978000   \n",
       "Algeria       8.609     32.45       -4.1     3344.0  0.6087      0.889556   \n",
       "Angola       24.920     28.73       -2.1     1649.0  0.3865      0.804000   \n",
       "Argentina    24.960     40.08        7.2     7879.0  0.7389      1.026000   \n",
       "Armenia      19.430     31.47        3.4     1171.1  0.6158      1.070000   \n",
       "\n",
       "           hiv_f  hiv_m hivf_level hivm_level  \n",
       "Albania     0.10   0.10        low        low  \n",
       "Algeria     0.10   0.10        low        low  \n",
       "Angola      0.42   0.19     medium     medium  \n",
       "Argentina   0.15   0.24     medium     medium  \n",
       "Armenia     0.10   0.10        low        low  "
      ]
     },
     "execution_count": 37,
     "metadata": {},
     "output_type": "execute_result"
    }
   ],
   "source": [
    "df_comb_4.head()"
   ]
  },
  {
   "cell_type": "code",
   "execution_count": 38,
   "metadata": {
    "scrolled": true
   },
   "outputs": [
    {
     "data": {
      "text/plain": [
       "(79, 10)"
      ]
     },
     "execution_count": 38,
     "metadata": {},
     "output_type": "execute_result"
    }
   ],
   "source": [
    "#check the number of countries with HIV prevalence below average\n",
    "df_comb_4.shape"
   ]
  },
  {
   "cell_type": "markdown",
   "metadata": {},
   "source": [
    "##### Scatter plot female hiv prevalence rate over male's rate using below average dataframe(df_comb_4)"
   ]
  },
  {
   "cell_type": "code",
   "execution_count": 39,
   "metadata": {
    "scrolled": true
   },
   "outputs": [
    {
     "data": {
      "image/png": "[encoded data removed]",
      "text/plain": [
       "<matplotlib.figure.Figure at 0x7f75047b38d0>"
      ]
     },
     "metadata": {
      "needs_background": "light"
     },
     "output_type": "display_data"
    }
   ],
   "source": [
    "# scatter plot female hiv prevalence rate over male's rate again\n",
    "x = df_comb_4['hiv_m']\n",
    "y = df_comb_4['hiv_f']\n",
    "plt.scatter(x, y)\n",
    "\n",
    "z = np.polyfit(x, y, 1)\n",
    "p = np.poly1d(z)\n",
    "plt.plot(x,p(x),\"r--\")\n",
    "\n",
    "plt.title('female/male <age 15-24> HIV prevalence correlation')\n",
    "plt.xlabel('hiv_male')\n",
    "plt.ylabel('hiv_female')\n",
    "plt.show()"
   ]
  },
  {
   "cell_type": "code",
   "execution_count": 50,
   "metadata": {
    "scrolled": true
   },
   "outputs": [],
   "source": [
    "#For the lower half of the dataset, what is the mean ratio between female and male HIV prevalence\n",
    "mean_hiv_f2m_belowaverage=(df_comb_4['hiv_f']/df_comb_4['hiv_m']).mean()"
   ]
  },
  {
   "cell_type": "markdown",
   "metadata": {},
   "source": [
    "##### Create a bar chart for comparing the mean female to male HIV ratio between the whole dataframe(df_comb_3) and below average dataframe(df_comb_4)"
   ]
  },
  {
   "cell_type": "code",
   "execution_count": 56,
   "metadata": {
    "scrolled": true
   },
   "outputs": [
    {
     "data": {
      "text/plain": [
       "Text(0,0.5,'mean female to male HIV prevalence ratio')"
      ]
     },
     "execution_count": 56,
     "metadata": {},
     "output_type": "execute_result"
    },
    {
     "data": {
      "image/png": "[encoded data removed]",
      "text/plain": [
       "<matplotlib.figure.Figure at 0x7f75047f09e8>"
      ]
     },
     "metadata": {
      "needs_background": "light"
     },
     "output_type": "display_data"
    }
   ],
   "source": [
    "# Create a bar chart for comparing the mean female to male HIV ratio \n",
    "locations=[1,2]\n",
    "heights=[mean_hiv_f2m,mean_hiv_f2m_belowaverage]\n",
    "labels=['whole dataframe','below average dataframe']\n",
    "plt.bar(locations,heights,tick_label=labels);\n",
    "plt.title('mean female to male HIV prevalence ratio <15-24 age group>')\n",
    "plt.ylabel('mean female to male HIV prevalence ratio')"
   ]
  },
  {
   "cell_type": "markdown",
   "metadata": {},
   "source": [
    "#### Conclusion 3: \n",
    "1. Based on the observation of scatter plot, the data for below average HIV prevalence countries suggest that HIV prevalence for female and male  seems to still have a strong positive correlation.\n",
    "2. Based on the observation of bar chart, the mean HIV prevalence ratio between female & male is almost 1, which is lower than the whole dataframe."
   ]
  },
  {
   "cell_type": "markdown",
   "metadata": {},
   "source": [
    "### Research Question 4  (How does social-economic factors relate to HIV prevalence for the whole datasets?)"
   ]
  },
  {
   "cell_type": "markdown",
   "metadata": {},
   "source": [
    "#### 4.1 Does countries with high HIV prevalence (15-24 age group) have lower HDI?"
   ]
  },
  {
   "cell_type": "markdown",
   "metadata": {},
   "source": [
    "##### Calculate mean HDI for countries in different HIV prevalence level"
   ]
  },
  {
   "cell_type": "code",
   "execution_count": 66,
   "metadata": {
    "scrolled": false
   },
   "outputs": [],
   "source": [
    "# calculate mean HDI for countries in different HIV prevalence level\n",
    "hdi_mean_f=df_comb_3.groupby(['hivf_level'])['hdi'].mean()\n",
    "hdi_mean_m=df_comb_3.groupby(['hivm_level'])['hdi'].mean()"
   ]
  },
  {
   "cell_type": "markdown",
   "metadata": {},
   "source": [
    "##### Create a bar chart for comparing HDI in countris with different HIV prevalence level"
   ]
  },
  {
   "cell_type": "code",
   "execution_count": 69,
   "metadata": {
    "scrolled": false
   },
   "outputs": [
    {
     "data": {
      "text/plain": [
       "<matplotlib.legend.Legend at 0x7f750476e320>"
      ]
     },
     "execution_count": 69,
     "metadata": {},
     "output_type": "execute_result"
    },
    {
     "data": {
      "image/png": "[encoded data removed]",
      "text/plain": [
       "<matplotlib.figure.Figure at 0x7f7504fff940>"
      ]
     },
     "metadata": {
      "needs_background": "light"
     },
     "output_type": "display_data"
    }
   ],
   "source": [
    "N=3\n",
    "ind=np.arange(N)\n",
    "width=0.35\n",
    "\n",
    "# plot bars\n",
    "red_bars = plt.bar(ind, hdi_mean_f, width, color='r', alpha=.7, label='female')\n",
    "blue_bars = plt.bar(ind + width, hdi_mean_m, width, color='b', alpha=.7, label='male')\n",
    "\n",
    "# title and labels\n",
    "plt.ylabel('mean HDI')\n",
    "plt.xlabel('HIV prevalence level')\n",
    "plt.title('HDI in countris with different HIV prevalence level <15-24 age group>')\n",
    "locations = ind + width / 2  # xtick locations\n",
    "labels = ['low', 'medium', 'high']  # xtick labels\n",
    "plt.xticks(locations, labels)\n",
    "\n",
    "# legend\n",
    "plt.legend()"
   ]
  },
  {
   "cell_type": "markdown",
   "metadata": {},
   "source": [
    "#### Conclusion 4.1: \n",
    "1. Based on observation of bar chart, countries with lower HIV prevalence for both sex in the age between 15-24 seems to have higher Human development index."
   ]
  },
  {
   "cell_type": "markdown",
   "metadata": {},
   "source": [
    "#### 4.2 Does countries with low HIV prevalence (15-24 age group) have higher female basic education (elementry, secondary) rate?"
   ]
  },
  {
   "cell_type": "code",
   "execution_count": 72,
   "metadata": {},
   "outputs": [],
   "source": [
    "# calculate mean Ratio girls/boys in school, primary and secondary education for countries in different HIV prevalence level\n",
    "eduratio_mean_f=df_comb_3.groupby(['hivf_level'])['eduratio_f2m'].mean()\n",
    "eduratio_mean_m=df_comb_3.groupby(['hivm_level'])['eduratio_f2m'].mean()"
   ]
  },
  {
   "cell_type": "code",
   "execution_count": 84,
   "metadata": {},
   "outputs": [
    {
     "data": {
      "text/plain": [
       "<matplotlib.legend.Legend at 0x7f750450ce10>"
      ]
     },
     "execution_count": 84,
     "metadata": {},
     "output_type": "execute_result"
    },
    {
     "data": {
      "image/png": "[encoded data removed]",
      "text/plain": [
       "<matplotlib.figure.Figure at 0x7f75052685f8>"
      ]
     },
     "metadata": {
      "needs_background": "light"
     },
     "output_type": "display_data"
    }
   ],
   "source": [
    "N=3\n",
    "ind=np.arange(N)\n",
    "width=0.35\n",
    "\n",
    "# plot bars\n",
    "red_bars = plt.bar(ind,eduratio_mean_f, width, color='r', alpha=.7, label='female')\n",
    "blue_bars = plt.bar(ind + width,eduratio_mean_m, width, color='b', alpha=.7, label='male')\n",
    "\n",
    "# title and labels\n",
    "plt.ylabel('mean Ratio girls/boys in school')\n",
    "plt.xlabel('HIV prevalence level')\n",
    "plt.title('Education Ratio girls/boys in countries with different HIV prevalence level <15-24 age group>')\n",
    "locations = ind + width / 2  # xtick locations\n",
    "labels = ['low', 'medium', 'high']  # xtick labels\n",
    "plt.xticks(locations, labels)\n",
    "\n",
    "# legend\n",
    "plt.legend()"
   ]
  },
  {
   "cell_type": "markdown",
   "metadata": {},
   "source": [
    "#### Conclusion 4.2: \n",
    "1. Based on observation of bar chart, countries with lower HIV prevalence for both sex in the age between 15-24 seems to have higher Ratio girls/boys in school (primary and secondary education)."
   ]
  },
  {
   "cell_type": "markdown",
   "metadata": {},
   "source": [
    "#### 4.3 Does countries with low HIV prevalence (15-24 age group) have higher employment rate?"
   ]
  },
  {
   "cell_type": "code",
   "execution_count": 76,
   "metadata": {},
   "outputs": [],
   "source": [
    "# calculate mean employment rate for countries in different HIV prevalence level\n",
    "employrate_mean_f=df_comb_3.groupby(['hivf_level'])['employ_f'].mean()\n",
    "employrate_mean_m=df_comb_3.groupby(['hivm_level'])['employ_m'].mean()"
   ]
  },
  {
   "cell_type": "code",
   "execution_count": 83,
   "metadata": {
    "scrolled": true
   },
   "outputs": [
    {
     "data": {
      "text/plain": [
       "<matplotlib.legend.Legend at 0x7f7504527eb8>"
      ]
     },
     "execution_count": 83,
     "metadata": {},
     "output_type": "execute_result"
    },
    {
     "data": {
      "image/png": "[encoded data removed]",
      "text/plain": [
       "<matplotlib.figure.Figure at 0x7f7505298208>"
      ]
     },
     "metadata": {
      "needs_background": "light"
     },
     "output_type": "display_data"
    }
   ],
   "source": [
    "N=3\n",
    "ind=np.arange(N)\n",
    "width=0.35\n",
    "\n",
    "# plot bars\n",
    "red_bars = plt.bar(ind,employrate_mean_f, width, color='r', alpha=.7, label='female')\n",
    "blue_bars = plt.bar(ind + width,employrate_mean_m, width, color='b', alpha=.7, label='male')\n",
    "\n",
    "# title and labels\n",
    "plt.ylabel('mean employment rate')\n",
    "plt.xlabel('HIV prevalence level')\n",
    "plt.title('Employment rate in countries with different HIV prevalence level <15-24 age group>')\n",
    "locations = ind + width / 2  # xtick locations\n",
    "labels = ['low', 'medium', 'high']  # xtick labels\n",
    "plt.xticks(locations, labels)\n",
    "\n",
    "# legend\n",
    "plt.legend()"
   ]
  },
  {
   "cell_type": "markdown",
   "metadata": {},
   "source": [
    "#### Conclusion 4.3: \n",
    "1. Based on observation of bar chart, countries with lower HIV prevalence for both sex in the age between 15-24 seems to have lower employment ratio.\n",
    "2. This result may need to be further investigated since the employment rate data is not specifically targeted to the age group (15-24)."
   ]
  },
  {
   "cell_type": "markdown",
   "metadata": {},
   "source": [
    "#### 4.4 Does countries with low HIV prevalence (15-24 age group) have higher GDP per capita?"
   ]
  },
  {
   "cell_type": "code",
   "execution_count": 80,
   "metadata": {},
   "outputs": [],
   "source": [
    "# calculate mean GDP per capita for countries in different HIV prevalence level\n",
    "gdp_mean_f=df_comb_3.groupby(['hivf_level'])['gdppercap'].mean()\n",
    "gdp_mean_m=df_comb_3.groupby(['hivm_level'])['gdppercap'].mean()"
   ]
  },
  {
   "cell_type": "code",
   "execution_count": 82,
   "metadata": {
    "scrolled": true
   },
   "outputs": [
    {
     "data": {
      "text/plain": [
       "<matplotlib.legend.Legend at 0x7f750526f5f8>"
      ]
     },
     "execution_count": 82,
     "metadata": {},
     "output_type": "execute_result"
    },
    {
     "data": {
      "image/png": "[encoded data removed]",
      "text/plain": [
       "<matplotlib.figure.Figure at 0x7f7504557d30>"
      ]
     },
     "metadata": {
      "needs_background": "light"
     },
     "output_type": "display_data"
    }
   ],
   "source": [
    "N=3\n",
    "ind=np.arange(N)\n",
    "width=0.35\n",
    "\n",
    "# plot bars\n",
    "red_bars = plt.bar(ind,gdp_mean_f, width, color='r', alpha=.7, label='female')\n",
    "blue_bars = plt.bar(ind + width,gdp_mean_m, width, color='b', alpha=.7, label='male')\n",
    "\n",
    "# title and labels\n",
    "plt.ylabel('mean GDP per capita')\n",
    "plt.xlabel('HIV prevalence level')\n",
    "plt.title('GDP per capita in countries with different HIV prevalence level <15-24 age group>')\n",
    "locations = ind + width / 2  # xtick locations\n",
    "labels = ['low', 'medium', 'high']  # xtick labels\n",
    "plt.xticks(locations, labels)\n",
    "\n",
    "# legend\n",
    "plt.legend()"
   ]
  },
  {
   "cell_type": "markdown",
   "metadata": {},
   "source": [
    "#### Conclusion 4.4: \n",
    "1. Based on observation of bar chart, countries with lower HIV prevalence for both sex in the age between 15-24 seems to have higher GDP per capita."
   ]
  },
  {
   "cell_type": "markdown",
   "metadata": {},
   "source": [
    "<a id='conclusions'></a>\n",
    "## Conclusions\n",
    "\n",
    "### Global limitation: all observations in this project are made based on GAPMINDER data in ten years between 1991-2000 among 109 different countries.  \n",
    "\n",
    "#### Observation towards the whole data frame(109 countries) was performed (conclusion 0)\n",
    "1. All data series are not normal distribution.\n",
    "2. Right skewed series (5):employ_f, employ_m, gdppercap, hiv_f, hiv_m\n",
    "3. Left skewed series (3):democracy, hdi, eduratio_f2m\n",
    "\n",
    "#### Quantitative analysis towards the whole data frame(109 countries) was performed (Q1)\n",
    "1. Zimbabwe has the highest female HIV prevalence for age group of 15-24 years old;\n",
    "2. Botswana has the highest male HIV prevalence for age group of 15-24 years old;\n",
    "3. Both of those countries seems to have high HIV prevalence for both sex;\n",
    "4. For those two countries in this age group, HIV prevalence in female is more than twice higher than male's prevalence.\n",
    "\n",
    "#### Observation towards the whole data frame(109 countries) was performed (Q2)\n",
    "1. Based on the observation of a scatter plot, HIV prevalence for female and male in different countries seems to have a strong positive correlation for age group of 15-24. The higher the HIV prevalence in female, the higher the prevalence in male.\n",
    "2. A hypothesis based on the observation is the positive correlation may be related to sexual activity.\n",
    "3. Based on the observation of a scatter plot, most data are crowded in the lower left side of the graph because the data for HIV is heavily right skewed.\n",
    "4. For whole dataframe, female HIV prevalence for age group 15-24 is around 1.47 times more than male.\n",
    "\n",
    "#### Observation towards a new data frame(79 countries) was performed to double check the observations made in conclusion 2 (Q3)\n",
    "1. Based on the observation of a scatter plot, for the new data frame (countries with HIV prevalence below average) suggest that HIV prevalence for female and male seems to still have a strong positive correlation.\n",
    "2. However, based on the observation of a bar chart, the mean HIV prevalence ratio between female & male for age group 15-24 is almost one to one, which is obviously lower than the ratio (1.47) calculated from whole dataframe.\n",
    "\n",
    "#### Explorational observations towards the whole data frame(109 countries) was performed to understand the correlation between social-ecnomic variables and HIV prevalence for both sex for age group 15-24 (Q4)\n",
    "1. Based on observation of a bar chart, countries with lower HIV prevalence for both sex in the age between 15-24 seems to have higher Human development index.\n",
    "2. Based on observation of a bar chart, countries with lower HIV prevalence for both sex in the age between 15-24 seems to have higher Ratio girls/boys in school (primary and secondary education).\n",
    "4. Based on observation of a bar chart, countries with lower HIV prevalence for both sex in the age between 15-24 seems to have lower employment ratio. However, this result may need to be further investigated since the employment rate data is not specifically targeted to the specific age group (15-24).\n",
    "4. Based on observation of a bar chart, countries with lower HIV prevalence for both sex in the age between 15-24 seems to have higher GDP per capita."
   ]
  },
  {
   "cell_type": "markdown",
   "metadata": {},
   "source": [
    "\n",
    "## Submitting your Project \n",
    "\n",
    "> Before you submit your project, you need to create a .html or .pdf version of this notebook in the workspace here. To do that, run the code cell below. If it worked correctly, you should get a return code of 0, and you should see the generated .html file in the workspace directory (click on the orange Jupyter icon in the upper left).\n",
    "\n",
    "> Alternatively, you can download this report as .html via the **File** > **Download as** submenu, and then manually upload it into the workspace directory by clicking on the orange Jupyter icon in the upper left, then using the Upload button.\n",
    "\n",
    "> Once you've done this, you can submit your project by clicking on the \"Submit Project\" button in the lower right here. This will create and submit a zip file with this .ipynb doc and the .html or .pdf version you created. Congratulations!"
   ]
  },
  {
   "cell_type": "code",
   "execution_count": 85,
   "metadata": {
    "scrolled": true
   },
   "outputs": [
    {
     "data": {
      "text/plain": [
       "0"
      ]
     },
     "execution_count": 85,
     "metadata": {},
     "output_type": "execute_result"
    }
   ],
   "source": [
    "from subprocess import call\n",
    "call(['python', '-m', 'nbconvert', 'Investigate_a_Dataset.ipynb'])"
   ]
  }
 ],
 "metadata": {
  "kernelspec": {
   "display_name": "Python 3",
   "language": "python",
   "name": "python3"
  },
  "language_info": {
   "codemirror_mode": {
    "name": "ipython",
    "version": 3
   },
   "file_extension": ".py",
   "mimetype": "text/x-python",
   "name": "python",
   "nbconvert_exporter": "python",
   "pygments_lexer": "ipython3",
   "version": "3.6.3"
  }
 },
 "nbformat": 4,
 "nbformat_minor": 2
}
