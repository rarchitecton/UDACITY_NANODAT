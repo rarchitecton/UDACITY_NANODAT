{
 "cells": [
  {
   "cell_type": "markdown",
   "metadata": {},
   "source": [
    "## Analyze A/B Test Results\n",
    "\n",
    "You may either submit your notebook through the workspace here, or you may work from your local machine and submit through the next page.  Either way assure that your code passes the project [RUBRIC](https://review.udacity.com/#!/projects/37e27304-ad47-4eb0-a1ab-8c12f60e43d0/rubric).  **Please save regularly.**\n",
    "\n",
    "This project will assure you have mastered the subjects covered in the statistics lessons.  The hope is to have this project be as comprehensive of these topics as possible.  Good luck!\n",
    "\n",
    "## Table of Contents\n",
    "- [Introduction](#intro)\n",
    "- [Part I - Probability](#probability)\n",
    "- [Part II - A/B Test](#ab_test)\n",
    "- [Part III - Regression](#regression)\n",
    "\n",
    "\n",
    "<a id='intro'></a>\n",
    "### Introduction\n",
    "\n",
    "A/B tests are very commonly performed by data analysts and data scientists.  It is important that you get some practice working with the difficulties of these \n",
    "\n",
    "For this project, you will be working to understand the results of an A/B test run by an e-commerce website.  Your goal is to work through this notebook to help the company understand if they should implement the new page, keep the old page, or perhaps run the experiment longer to make their decision.\n",
    "\n",
    "**As you work through this notebook, follow along in the classroom and answer the corresponding quiz questions associated with each question.** The labels for each classroom concept are provided for each question.  This will assure you are on the right track as you work through the project, and you can feel more confident in your final submission meeting the criteria.  As a final check, assure you meet all the criteria on the [RUBRIC](https://review.udacity.com/#!/projects/37e27304-ad47-4eb0-a1ab-8c12f60e43d0/rubric).\n",
    "\n",
    "<a id='probability'></a>\n",
    "#### Part I - Probability\n",
    "\n",
    "To get started, let's import our libraries."
   ]
  },
  {
   "cell_type": "code",
   "execution_count": 1,
   "metadata": {},
   "outputs": [],
   "source": [
    "import pandas as pd\n",
    "import numpy as np\n",
    "import random\n",
    "import matplotlib.pyplot as plt\n",
    "%matplotlib inline\n",
    "#We are setting the seed to assure you get the same answers on quizzes as we set up\n",
    "random.seed(42)"
   ]
  },
  {
   "cell_type": "markdown",
   "metadata": {},
   "source": [
    "`1.` Now, read in the `ab_data.csv` data. Store it in `df`.  **Use your dataframe to answer the questions in Quiz 1 of the classroom.**\n",
    "\n",
    "a. Read in the dataset and take a look at the top few rows here:"
   ]
  },
  {
   "cell_type": "code",
   "execution_count": 2,
   "metadata": {},
   "outputs": [
    {
     "data": {
      "text/html": [
       "<div>\n",
       "<style scoped>\n",
       "    .dataframe tbody tr th:only-of-type {\n",
       "        vertical-align: middle;\n",
       "    }\n",
       "\n",
       "    .dataframe tbody tr th {\n",
       "        vertical-align: top;\n",
       "    }\n",
       "\n",
       "    .dataframe thead th {\n",
       "        text-align: right;\n",
       "    }\n",
       "</style>\n",
       "<table border=\"1\" class=\"dataframe\">\n",
       "  <thead>\n",
       "    <tr style=\"text-align: right;\">\n",
       "      <th></th>\n",
       "      <th>user_id</th>\n",
       "      <th>timestamp</th>\n",
       "      <th>group</th>\n",
       "      <th>landing_page</th>\n",
       "      <th>converted</th>\n",
       "    </tr>\n",
       "  </thead>\n",
       "  <tbody>\n",
       "    <tr>\n",
       "      <th>0</th>\n",
       "      <td>851104</td>\n",
       "      <td>2017-01-21 22:11:48.556739</td>\n",
       "      <td>control</td>\n",
       "      <td>old_page</td>\n",
       "      <td>0</td>\n",
       "    </tr>\n",
       "    <tr>\n",
       "      <th>1</th>\n",
       "      <td>804228</td>\n",
       "      <td>2017-01-12 08:01:45.159739</td>\n",
       "      <td>control</td>\n",
       "      <td>old_page</td>\n",
       "      <td>0</td>\n",
       "    </tr>\n",
       "    <tr>\n",
       "      <th>2</th>\n",
       "      <td>661590</td>\n",
       "      <td>2017-01-11 16:55:06.154213</td>\n",
       "      <td>treatment</td>\n",
       "      <td>new_page</td>\n",
       "      <td>0</td>\n",
       "    </tr>\n",
       "    <tr>\n",
       "      <th>3</th>\n",
       "      <td>853541</td>\n",
       "      <td>2017-01-08 18:28:03.143765</td>\n",
       "      <td>treatment</td>\n",
       "      <td>new_page</td>\n",
       "      <td>0</td>\n",
       "    </tr>\n",
       "    <tr>\n",
       "      <th>4</th>\n",
       "      <td>864975</td>\n",
       "      <td>2017-01-21 01:52:26.210827</td>\n",
       "      <td>control</td>\n",
       "      <td>old_page</td>\n",
       "      <td>1</td>\n",
       "    </tr>\n",
       "  </tbody>\n",
       "</table>\n",
       "</div>"
      ],
      "text/plain": [
       "   user_id                   timestamp      group landing_page  converted\n",
       "0   851104  2017-01-21 22:11:48.556739    control     old_page          0\n",
       "1   804228  2017-01-12 08:01:45.159739    control     old_page          0\n",
       "2   661590  2017-01-11 16:55:06.154213  treatment     new_page          0\n",
       "3   853541  2017-01-08 18:28:03.143765  treatment     new_page          0\n",
       "4   864975  2017-01-21 01:52:26.210827    control     old_page          1"
      ]
     },
     "execution_count": 2,
     "metadata": {},
     "output_type": "execute_result"
    }
   ],
   "source": [
    "df=pd.read_csv('ab_data.csv')\n",
    "df.head(5)"
   ]
  },
  {
   "cell_type": "markdown",
   "metadata": {},
   "source": [
    "b. Use the cell below to find the number of rows in the dataset."
   ]
  },
  {
   "cell_type": "code",
   "execution_count": 3,
   "metadata": {},
   "outputs": [
    {
     "data": {
      "text/plain": [
       "294478"
      ]
     },
     "execution_count": 3,
     "metadata": {},
     "output_type": "execute_result"
    }
   ],
   "source": [
    "df.shape[0]"
   ]
  },
  {
   "cell_type": "markdown",
   "metadata": {},
   "source": [
    "c. The number of unique users in the dataset."
   ]
  },
  {
   "cell_type": "code",
   "execution_count": 4,
   "metadata": {
    "scrolled": true
   },
   "outputs": [
    {
     "data": {
      "text/plain": [
       "290584"
      ]
     },
     "execution_count": 4,
     "metadata": {},
     "output_type": "execute_result"
    }
   ],
   "source": [
    "df['user_id'].nunique()"
   ]
  },
  {
   "cell_type": "markdown",
   "metadata": {
    "collapsed": true
   },
   "source": [
    "d. The proportion of users converted."
   ]
  },
  {
   "cell_type": "code",
   "execution_count": 5,
   "metadata": {},
   "outputs": [
    {
     "data": {
      "text/plain": [
       "0.11965919355605512"
      ]
     },
     "execution_count": 5,
     "metadata": {},
     "output_type": "execute_result"
    }
   ],
   "source": [
    "df['converted'].mean()"
   ]
  },
  {
   "cell_type": "markdown",
   "metadata": {
    "collapsed": true
   },
   "source": [
    "e. The number of times the `new_page` and `treatment` don't match."
   ]
  },
  {
   "cell_type": "code",
   "execution_count": 6,
   "metadata": {},
   "outputs": [
    {
     "data": {
      "text/html": [
       "<div>\n",
       "<style scoped>\n",
       "    .dataframe tbody tr th:only-of-type {\n",
       "        vertical-align: middle;\n",
       "    }\n",
       "\n",
       "    .dataframe tbody tr th {\n",
       "        vertical-align: top;\n",
       "    }\n",
       "\n",
       "    .dataframe thead th {\n",
       "        text-align: right;\n",
       "    }\n",
       "</style>\n",
       "<table border=\"1\" class=\"dataframe\">\n",
       "  <thead>\n",
       "    <tr style=\"text-align: right;\">\n",
       "      <th></th>\n",
       "      <th></th>\n",
       "      <th>user_id</th>\n",
       "      <th>timestamp</th>\n",
       "      <th>group</th>\n",
       "      <th>landing_page</th>\n",
       "      <th>converted</th>\n",
       "    </tr>\n",
       "    <tr>\n",
       "      <th>group</th>\n",
       "      <th>landing_page</th>\n",
       "      <th></th>\n",
       "      <th></th>\n",
       "      <th></th>\n",
       "      <th></th>\n",
       "      <th></th>\n",
       "    </tr>\n",
       "  </thead>\n",
       "  <tbody>\n",
       "    <tr>\n",
       "      <th rowspan=\"2\" valign=\"top\">control</th>\n",
       "      <th>new_page</th>\n",
       "      <td>1928</td>\n",
       "      <td>1928</td>\n",
       "      <td>1</td>\n",
       "      <td>1</td>\n",
       "      <td>2</td>\n",
       "    </tr>\n",
       "    <tr>\n",
       "      <th>old_page</th>\n",
       "      <td>145274</td>\n",
       "      <td>145274</td>\n",
       "      <td>1</td>\n",
       "      <td>1</td>\n",
       "      <td>2</td>\n",
       "    </tr>\n",
       "    <tr>\n",
       "      <th rowspan=\"2\" valign=\"top\">treatment</th>\n",
       "      <th>new_page</th>\n",
       "      <td>145310</td>\n",
       "      <td>145311</td>\n",
       "      <td>1</td>\n",
       "      <td>1</td>\n",
       "      <td>2</td>\n",
       "    </tr>\n",
       "    <tr>\n",
       "      <th>old_page</th>\n",
       "      <td>1965</td>\n",
       "      <td>1965</td>\n",
       "      <td>1</td>\n",
       "      <td>1</td>\n",
       "      <td>2</td>\n",
       "    </tr>\n",
       "  </tbody>\n",
       "</table>\n",
       "</div>"
      ],
      "text/plain": [
       "                        user_id  timestamp  group  landing_page  converted\n",
       "group     landing_page                                                    \n",
       "control   new_page         1928       1928      1             1          2\n",
       "          old_page       145274     145274      1             1          2\n",
       "treatment new_page       145310     145311      1             1          2\n",
       "          old_page         1965       1965      1             1          2"
      ]
     },
     "execution_count": 6,
     "metadata": {},
     "output_type": "execute_result"
    }
   ],
   "source": [
    "df.groupby(['group','landing_page']).nunique()"
   ]
  },
  {
   "cell_type": "markdown",
   "metadata": {},
   "source": [
    "f. Do any of the rows have missing values?"
   ]
  },
  {
   "cell_type": "code",
   "execution_count": 7,
   "metadata": {},
   "outputs": [
    {
     "name": "stdout",
     "output_type": "stream",
     "text": [
      "<class 'pandas.core.frame.DataFrame'>\n",
      "RangeIndex: 294478 entries, 0 to 294477\n",
      "Data columns (total 5 columns):\n",
      "user_id         294478 non-null int64\n",
      "timestamp       294478 non-null object\n",
      "group           294478 non-null object\n",
      "landing_page    294478 non-null object\n",
      "converted       294478 non-null int64\n",
      "dtypes: int64(2), object(3)\n",
      "memory usage: 11.2+ MB\n"
     ]
    }
   ],
   "source": [
    "df.info()"
   ]
  },
  {
   "cell_type": "markdown",
   "metadata": {},
   "source": [
    "`2.` For the rows where **treatment** does not match with **new_page** or **control** does not match with **old_page**, we cannot be sure if this row truly received the new or old page.  Use **Quiz 2** in the classroom to figure out how we should handle these rows.  \n",
    "\n",
    "a. Now use the answer to the quiz to create a new dataset that meets the specifications from the quiz.  Store your new dataframe in **df2**."
   ]
  },
  {
   "cell_type": "code",
   "execution_count": 8,
   "metadata": {},
   "outputs": [],
   "source": [
    "df2a=df.query(\"group=='control' & landing_page=='old_page'\")\n",
    "df2b=df.query(\"group=='treatment' & landing_page=='new_page'\")"
   ]
  },
  {
   "cell_type": "code",
   "execution_count": 9,
   "metadata": {},
   "outputs": [
    {
     "data": {
      "text/plain": [
       "290585"
      ]
     },
     "execution_count": 9,
     "metadata": {},
     "output_type": "execute_result"
    }
   ],
   "source": [
    "df2=df2a.append(df2b)\n",
    "df2.shape[0]"
   ]
  },
  {
   "cell_type": "code",
   "execution_count": 10,
   "metadata": {},
   "outputs": [
    {
     "data": {
      "text/plain": [
       "0"
      ]
     },
     "execution_count": 10,
     "metadata": {},
     "output_type": "execute_result"
    }
   ],
   "source": [
    "# Double Check all of the correct rows were removed - this should be 0\n",
    "df2[((df2['group'] == 'treatment') == (df2['landing_page'] == 'new_page')) == False].shape[0]"
   ]
  },
  {
   "cell_type": "markdown",
   "metadata": {},
   "source": [
    "`3.` Use **df2** and the cells below to answer questions for **Quiz3** in the classroom."
   ]
  },
  {
   "cell_type": "markdown",
   "metadata": {},
   "source": [
    "a. How many unique **user_id**s are in **df2**?"
   ]
  },
  {
   "cell_type": "code",
   "execution_count": 11,
   "metadata": {
    "scrolled": false
   },
   "outputs": [
    {
     "data": {
      "text/plain": [
       "290584"
      ]
     },
     "execution_count": 11,
     "metadata": {},
     "output_type": "execute_result"
    }
   ],
   "source": [
    "df2['user_id'].nunique()"
   ]
  },
  {
   "cell_type": "markdown",
   "metadata": {
    "collapsed": true
   },
   "source": [
    "b. There is one **user_id** repeated in **df2**.  What is it?"
   ]
  },
  {
   "cell_type": "code",
   "execution_count": 12,
   "metadata": {
    "scrolled": true
   },
   "outputs": [
    {
     "data": {
      "text/plain": [
       "773192    2\n",
       "630732    1\n",
       "811737    1\n",
       "797392    1\n",
       "795345    1\n",
       "801490    1\n",
       "799443    1\n",
       "787157    1\n",
       "793302    1\n",
       "817882    1\n",
       "842446    1\n",
       "815835    1\n",
       "805596    1\n",
       "803549    1\n",
       "809694    1\n",
       "807647    1\n",
       "895712    1\n",
       "840399    1\n",
       "836301    1\n",
       "899810    1\n",
       "834242    1\n",
       "936604    1\n",
       "934557    1\n",
       "940702    1\n",
       "938655    1\n",
       "830144    1\n",
       "828097    1\n",
       "832195    1\n",
       "838348    1\n",
       "821956    1\n",
       "         ..\n",
       "734668    1\n",
       "736717    1\n",
       "730574    1\n",
       "775632    1\n",
       "771538    1\n",
       "642451    1\n",
       "773587    1\n",
       "783828    1\n",
       "785877    1\n",
       "779734    1\n",
       "781783    1\n",
       "759256    1\n",
       "726472    1\n",
       "748999    1\n",
       "746950    1\n",
       "753093    1\n",
       "751044    1\n",
       "740803    1\n",
       "738754    1\n",
       "744897    1\n",
       "742848    1\n",
       "634271    1\n",
       "632222    1\n",
       "636316    1\n",
       "630169    1\n",
       "650647    1\n",
       "648598    1\n",
       "654741    1\n",
       "652692    1\n",
       "630836    1\n",
       "Name: user_id, Length: 290584, dtype: int64"
      ]
     },
     "execution_count": 12,
     "metadata": {},
     "output_type": "execute_result"
    }
   ],
   "source": [
    "df2['user_id'].value_counts()"
   ]
  },
  {
   "cell_type": "markdown",
   "metadata": {},
   "source": [
    "c. What is the row information for the repeat **user_id**? "
   ]
  },
  {
   "cell_type": "code",
   "execution_count": 13,
   "metadata": {},
   "outputs": [
    {
     "name": "stderr",
     "output_type": "stream",
     "text": [
      "/opt/conda/lib/python3.6/site-packages/ipykernel_launcher.py:1: UserWarning: Boolean Series key will be reindexed to match DataFrame index.\n",
      "  \"\"\"Entry point for launching an IPython kernel.\n"
     ]
    },
    {
     "data": {
      "text/html": [
       "<div>\n",
       "<style scoped>\n",
       "    .dataframe tbody tr th:only-of-type {\n",
       "        vertical-align: middle;\n",
       "    }\n",
       "\n",
       "    .dataframe tbody tr th {\n",
       "        vertical-align: top;\n",
       "    }\n",
       "\n",
       "    .dataframe thead th {\n",
       "        text-align: right;\n",
       "    }\n",
       "</style>\n",
       "<table border=\"1\" class=\"dataframe\">\n",
       "  <thead>\n",
       "    <tr style=\"text-align: right;\">\n",
       "      <th></th>\n",
       "      <th>user_id</th>\n",
       "      <th>timestamp</th>\n",
       "      <th>group</th>\n",
       "      <th>landing_page</th>\n",
       "      <th>converted</th>\n",
       "    </tr>\n",
       "  </thead>\n",
       "  <tbody>\n",
       "    <tr>\n",
       "      <th>1899</th>\n",
       "      <td>773192</td>\n",
       "      <td>2017-01-09 05:37:58.781806</td>\n",
       "      <td>treatment</td>\n",
       "      <td>new_page</td>\n",
       "      <td>0</td>\n",
       "    </tr>\n",
       "    <tr>\n",
       "      <th>2893</th>\n",
       "      <td>773192</td>\n",
       "      <td>2017-01-14 02:55:59.590927</td>\n",
       "      <td>treatment</td>\n",
       "      <td>new_page</td>\n",
       "      <td>0</td>\n",
       "    </tr>\n",
       "  </tbody>\n",
       "</table>\n",
       "</div>"
      ],
      "text/plain": [
       "      user_id                   timestamp      group landing_page  converted\n",
       "1899   773192  2017-01-09 05:37:58.781806  treatment     new_page          0\n",
       "2893   773192  2017-01-14 02:55:59.590927  treatment     new_page          0"
      ]
     },
     "execution_count": 13,
     "metadata": {},
     "output_type": "execute_result"
    }
   ],
   "source": [
    "df2[df['user_id']==773192]"
   ]
  },
  {
   "cell_type": "markdown",
   "metadata": {},
   "source": [
    "d. Remove **one** of the rows with a duplicate **user_id**, but keep your dataframe as **df2**."
   ]
  },
  {
   "cell_type": "code",
   "execution_count": 14,
   "metadata": {},
   "outputs": [],
   "source": [
    "df2=df2.drop(1899)"
   ]
  },
  {
   "cell_type": "code",
   "execution_count": 15,
   "metadata": {
    "scrolled": true
   },
   "outputs": [
    {
     "data": {
      "text/plain": [
       "1.0"
      ]
     },
     "execution_count": 15,
     "metadata": {},
     "output_type": "execute_result"
    }
   ],
   "source": [
    "#detect if there is duplicated user_id, should be 1\n",
    "(df2['user_id'].value_counts()==1).mean()"
   ]
  },
  {
   "cell_type": "code",
   "execution_count": 16,
   "metadata": {
    "scrolled": false
   },
   "outputs": [
    {
     "data": {
      "text/plain": [
       "290584"
      ]
     },
     "execution_count": 16,
     "metadata": {},
     "output_type": "execute_result"
    }
   ],
   "source": [
    "df2.shape[0]"
   ]
  },
  {
   "cell_type": "code",
   "execution_count": 17,
   "metadata": {
    "scrolled": true
   },
   "outputs": [
    {
     "data": {
      "text/html": [
       "<div>\n",
       "<style scoped>\n",
       "    .dataframe tbody tr th:only-of-type {\n",
       "        vertical-align: middle;\n",
       "    }\n",
       "\n",
       "    .dataframe tbody tr th {\n",
       "        vertical-align: top;\n",
       "    }\n",
       "\n",
       "    .dataframe thead th {\n",
       "        text-align: right;\n",
       "    }\n",
       "</style>\n",
       "<table border=\"1\" class=\"dataframe\">\n",
       "  <thead>\n",
       "    <tr style=\"text-align: right;\">\n",
       "      <th></th>\n",
       "      <th>user_id</th>\n",
       "      <th>timestamp</th>\n",
       "      <th>group</th>\n",
       "      <th>landing_page</th>\n",
       "      <th>converted</th>\n",
       "    </tr>\n",
       "  </thead>\n",
       "  <tbody>\n",
       "    <tr>\n",
       "      <th>0</th>\n",
       "      <td>851104</td>\n",
       "      <td>2017-01-21 22:11:48.556739</td>\n",
       "      <td>control</td>\n",
       "      <td>old_page</td>\n",
       "      <td>0</td>\n",
       "    </tr>\n",
       "    <tr>\n",
       "      <th>1</th>\n",
       "      <td>804228</td>\n",
       "      <td>2017-01-12 08:01:45.159739</td>\n",
       "      <td>control</td>\n",
       "      <td>old_page</td>\n",
       "      <td>0</td>\n",
       "    </tr>\n",
       "    <tr>\n",
       "      <th>4</th>\n",
       "      <td>864975</td>\n",
       "      <td>2017-01-21 01:52:26.210827</td>\n",
       "      <td>control</td>\n",
       "      <td>old_page</td>\n",
       "      <td>1</td>\n",
       "    </tr>\n",
       "    <tr>\n",
       "      <th>5</th>\n",
       "      <td>936923</td>\n",
       "      <td>2017-01-10 15:20:49.083499</td>\n",
       "      <td>control</td>\n",
       "      <td>old_page</td>\n",
       "      <td>0</td>\n",
       "    </tr>\n",
       "    <tr>\n",
       "      <th>7</th>\n",
       "      <td>719014</td>\n",
       "      <td>2017-01-17 01:48:29.539573</td>\n",
       "      <td>control</td>\n",
       "      <td>old_page</td>\n",
       "      <td>0</td>\n",
       "    </tr>\n",
       "  </tbody>\n",
       "</table>\n",
       "</div>"
      ],
      "text/plain": [
       "   user_id                   timestamp    group landing_page  converted\n",
       "0   851104  2017-01-21 22:11:48.556739  control     old_page          0\n",
       "1   804228  2017-01-12 08:01:45.159739  control     old_page          0\n",
       "4   864975  2017-01-21 01:52:26.210827  control     old_page          1\n",
       "5   936923  2017-01-10 15:20:49.083499  control     old_page          0\n",
       "7   719014  2017-01-17 01:48:29.539573  control     old_page          0"
      ]
     },
     "execution_count": 17,
     "metadata": {},
     "output_type": "execute_result"
    }
   ],
   "source": [
    "df2.head()"
   ]
  },
  {
   "cell_type": "markdown",
   "metadata": {},
   "source": [
    "`4.` Use **df2** in the cells below to answer the quiz questions related to **Quiz 4** in the classroom.\n",
    "\n",
    "a. What is the probability of an individual converting regardless of the page they receive?"
   ]
  },
  {
   "cell_type": "code",
   "execution_count": 18,
   "metadata": {},
   "outputs": [
    {
     "data": {
      "text/plain": [
       "0.11959708724499628"
      ]
     },
     "execution_count": 18,
     "metadata": {},
     "output_type": "execute_result"
    }
   ],
   "source": [
    "df2['converted'].mean()"
   ]
  },
  {
   "cell_type": "markdown",
   "metadata": {},
   "source": [
    "b. Given that an individual was in the `control` group, what is the probability they converted?"
   ]
  },
  {
   "cell_type": "code",
   "execution_count": 19,
   "metadata": {
    "scrolled": true
   },
   "outputs": [
    {
     "data": {
      "text/plain": [
       "0.1203863045004612"
      ]
     },
     "execution_count": 19,
     "metadata": {},
     "output_type": "execute_result"
    }
   ],
   "source": [
    "p_old_rate=df2[df2['group']=='control']['converted'].mean()\n",
    "p_old_rate"
   ]
  },
  {
   "cell_type": "markdown",
   "metadata": {},
   "source": [
    "c. Given that an individual was in the `treatment` group, what is the probability they converted?"
   ]
  },
  {
   "cell_type": "code",
   "execution_count": 20,
   "metadata": {
    "scrolled": true
   },
   "outputs": [
    {
     "data": {
      "text/plain": [
       "0.11880806551510564"
      ]
     },
     "execution_count": 20,
     "metadata": {},
     "output_type": "execute_result"
    }
   ],
   "source": [
    "p_new_rate=df2[df2['group']=='treatment']['converted'].mean()\n",
    "p_new_rate"
   ]
  },
  {
   "cell_type": "markdown",
   "metadata": {},
   "source": [
    "d. What is the probability that an individual received the new page?"
   ]
  },
  {
   "cell_type": "code",
   "execution_count": 21,
   "metadata": {},
   "outputs": [
    {
     "data": {
      "text/plain": [
       "0.5000619442226688"
      ]
     },
     "execution_count": 21,
     "metadata": {},
     "output_type": "execute_result"
    }
   ],
   "source": [
    "len(df2[df2['group']=='treatment'])/len(df2)"
   ]
  },
  {
   "cell_type": "markdown",
   "metadata": {},
   "source": [
    "e. Consider your results from parts (a) through (d) above, and explain below whether you think there is sufficient evidence to conclude that the new treatment page leads to more conversions."
   ]
  },
  {
   "cell_type": "markdown",
   "metadata": {},
   "source": [
    "**Your answer goes here.**\n",
    "Based on the calculations made above, the new page seems to have a lower conversion rate than the new page. But we may need to do a hypothesis test to see if this is true."
   ]
  },
  {
   "cell_type": "markdown",
   "metadata": {},
   "source": [
    "<a id='ab_test'></a>\n",
    "### Part II - A/B Test\n",
    "\n",
    "Notice that because of the time stamp associated with each event, you could technically run a hypothesis test continuously as each observation was observed.  \n",
    "\n",
    "However, then the hard question is do you stop as soon as one page is considered significantly better than another or does it need to happen consistently for a certain amount of time?  How long do you run to render a decision that neither page is better than another?  \n",
    "\n",
    "These questions are the difficult parts associated with A/B tests in general.  \n",
    "\n",
    "\n",
    "`1.` For now, consider you need to make the decision just based on all the data provided.  If you want to assume that the old page is better unless the new page proves to be definitely better at a Type I error rate of 5%, what should your null and alternative hypotheses be?  You can state your hypothesis in terms of words or in terms of **$p_{old}$** and **$p_{new}$**, which are the converted rates for the old and new pages."
   ]
  },
  {
   "cell_type": "markdown",
   "metadata": {},
   "source": [
    "**Put your answer here.\n",
    "\n",
    "$H_0: p_{new} - p_{old} \\leq 0$\n",
    "\n",
    "$H_1: p_{new} - p_{old} > 0$"
   ]
  },
  {
   "cell_type": "markdown",
   "metadata": {},
   "source": [
    "`2.` Assume under the null hypothesis, $p_{new}$ and $p_{old}$ both have \"true\" success rates equal to the **converted** success rate regardless of page - that is $p_{new}$ and $p_{old}$ are equal. Furthermore, assume they are equal to the **converted** rate in **ab_data.csv** regardless of the page. <br><br>\n",
    "\n",
    "Use a sample size for each page equal to the ones in **ab_data.csv**.  <br><br>\n",
    "\n",
    "Perform the sampling distribution for the difference in **converted** between the two pages over 10,000 iterations of calculating an estimate from the null.  <br><br>\n",
    "\n",
    "Use the cells below to provide the necessary parts of this simulation.  If this doesn't make complete sense right now, don't worry - you are going to work through the problems below to complete this problem.  You can use **Quiz 5** in the classroom to make sure you are on the right track.<br><br>"
   ]
  },
  {
   "cell_type": "markdown",
   "metadata": {},
   "source": [
    "a. What is the **conversion rate** for $p_{new}$ under the null? "
   ]
  },
  {
   "cell_type": "code",
   "execution_count": 22,
   "metadata": {},
   "outputs": [
    {
     "data": {
      "text/plain": [
       "0.11959708724499628"
      ]
     },
     "execution_count": 22,
     "metadata": {},
     "output_type": "execute_result"
    }
   ],
   "source": [
    "p_new=df2[df2['converted']==1]['user_id'].nunique()/df2['user_id'].nunique()\n",
    "p_new"
   ]
  },
  {
   "cell_type": "markdown",
   "metadata": {},
   "source": [
    "b. What is the **conversion rate** for $p_{old}$ under the null? <br><br>"
   ]
  },
  {
   "cell_type": "code",
   "execution_count": 23,
   "metadata": {},
   "outputs": [
    {
     "data": {
      "text/plain": [
       "0.11959708724499628"
      ]
     },
     "execution_count": 23,
     "metadata": {},
     "output_type": "execute_result"
    }
   ],
   "source": [
    "p_old=p_new\n",
    "p_old"
   ]
  },
  {
   "cell_type": "markdown",
   "metadata": {},
   "source": [
    "c. What is $n_{new}$, the number of individuals in the treatment group?"
   ]
  },
  {
   "cell_type": "code",
   "execution_count": 24,
   "metadata": {},
   "outputs": [
    {
     "data": {
      "text/plain": [
       "145310"
      ]
     },
     "execution_count": 24,
     "metadata": {},
     "output_type": "execute_result"
    }
   ],
   "source": [
    "n_new=df2[df2['group']=='treatment']['user_id'].nunique()\n",
    "n_new"
   ]
  },
  {
   "cell_type": "markdown",
   "metadata": {},
   "source": [
    "d. What is $n_{old}$, the number of individuals in the control group?"
   ]
  },
  {
   "cell_type": "code",
   "execution_count": 25,
   "metadata": {},
   "outputs": [
    {
     "data": {
      "text/plain": [
       "145274"
      ]
     },
     "execution_count": 25,
     "metadata": {},
     "output_type": "execute_result"
    }
   ],
   "source": [
    "n_old=df2[df2['group']=='control']['user_id'].nunique()\n",
    "n_old"
   ]
  },
  {
   "cell_type": "markdown",
   "metadata": {},
   "source": [
    "e. Simulate $n_{new}$ transactions with a conversion rate of $p_{new}$ under the null.  Store these $n_{new}$ 1's and 0's in **new_page_converted**."
   ]
  },
  {
   "cell_type": "code",
   "execution_count": 26,
   "metadata": {},
   "outputs": [
    {
     "data": {
      "text/plain": [
       "array([0, 1, 0, ..., 0, 1, 0])"
      ]
     },
     "execution_count": 26,
     "metadata": {},
     "output_type": "execute_result"
    }
   ],
   "source": [
    "new_page_converted = np.random.choice([0,1], size = n_new, p = [1-p_new, p_new])\n",
    "new_page_converted"
   ]
  },
  {
   "cell_type": "markdown",
   "metadata": {},
   "source": [
    "f. Simulate $n_{old}$ transactions with a conversion rate of $p_{old}$ under the null.  Store these $n_{old}$ 1's and 0's in **old_page_converted**."
   ]
  },
  {
   "cell_type": "code",
   "execution_count": 27,
   "metadata": {},
   "outputs": [
    {
     "data": {
      "text/plain": [
       "array([0, 1, 0, ..., 0, 0, 0])"
      ]
     },
     "execution_count": 27,
     "metadata": {},
     "output_type": "execute_result"
    }
   ],
   "source": [
    "old_page_converted = np.random.choice([0,1], size = n_old, p = [1-p_old, p_old])\n",
    "old_page_converted"
   ]
  },
  {
   "cell_type": "markdown",
   "metadata": {},
   "source": [
    "g. Find $p_{new}$ - $p_{old}$ for your simulated values from part (e) and (f)."
   ]
  },
  {
   "cell_type": "code",
   "execution_count": 28,
   "metadata": {},
   "outputs": [
    {
     "data": {
      "text/plain": [
       "-0.0031682541321561564"
      ]
     },
     "execution_count": 28,
     "metadata": {},
     "output_type": "execute_result"
    }
   ],
   "source": [
    "new_page_converted.mean()-old_page_converted.mean()"
   ]
  },
  {
   "cell_type": "markdown",
   "metadata": {},
   "source": [
    "h. Create 10,000 $p_{new}$ - $p_{old}$ values using the same simulation process you used in parts (a) through (g) above. Store all 10,000 values in a NumPy array called **p_diffs**."
   ]
  },
  {
   "cell_type": "code",
   "execution_count": 29,
   "metadata": {},
   "outputs": [],
   "source": [
    "p_diffs=[]\n",
    "for i in range(10000):\n",
    "    new_page_converted = np.random.choice([0,1], size = n_new, p = [1-p_new, p_new])\n",
    "    old_page_converted = np.random.choice([0,1], size = n_old, p = [1-p_old, p_old])\n",
    "    p_diffs.append(new_page_converted.mean()-old_page_converted.mean())"
   ]
  },
  {
   "cell_type": "markdown",
   "metadata": {},
   "source": [
    "i. Plot a histogram of the **p_diffs**.  Does this plot look like what you expected?  Use the matching problem in the classroom to assure you fully understand what was computed here."
   ]
  },
  {
   "cell_type": "code",
   "execution_count": 30,
   "metadata": {
    "scrolled": true
   },
   "outputs": [
    {
     "data": {
      "image/png": "[encoded data removed]",
      "text/plain": [
       "<matplotlib.figure.Figure at 0x7f9ec1f9e940>"
      ]
     },
     "metadata": {
      "needs_background": "light"
     },
     "output_type": "display_data"
    }
   ],
   "source": [
    "plt.hist(p_diffs);"
   ]
  },
  {
   "cell_type": "code",
   "execution_count": 31,
   "metadata": {},
   "outputs": [
    {
     "data": {
      "image/png": "[encoded data removed]",
      "text/plain": [
       "<matplotlib.figure.Figure at 0x7f9ec14ca748>"
      ]
     },
     "metadata": {
      "needs_background": "light"
     },
     "output_type": "display_data"
    }
   ],
   "source": [
    "obs_diffs = np.array(p_new_rate-p_old_rate).mean()\n",
    "\n",
    "plt.hist(p_diffs, bins=15)\n",
    "plt.title('The Difference of Conversion Rate of New and Old Page - Null Hypo')\n",
    "plt.xlabel('Difference in Conversion Rate')\n",
    "plt.ylabel('Frequency')\n",
    "plt.axvline(x=(obs_diffs), color = 'red', label = 'Observed Difference')\n",
    "plt.legend()\n",
    "plt.show()"
   ]
  },
  {
   "cell_type": "markdown",
   "metadata": {},
   "source": [
    "j. What proportion of the **p_diffs** are greater than the actual difference observed in **ab_data.csv**?"
   ]
  },
  {
   "cell_type": "code",
   "execution_count": 32,
   "metadata": {},
   "outputs": [
    {
     "data": {
      "text/plain": [
       "0.90310000000000001"
      ]
     },
     "execution_count": 32,
     "metadata": {},
     "output_type": "execute_result"
    }
   ],
   "source": [
    "pvalue=(p_diffs>obs_diffs).mean()\n",
    "pvalue"
   ]
  },
  {
   "cell_type": "markdown",
   "metadata": {},
   "source": [
    "k. Please explain using the vocabulary you've learned in this course what you just computed in part **j.**  What is this value called in scientific studies?  What does this value mean in terms of whether or not there is a difference between the new and old pages?\n",
    "\n"
   ]
  },
  {
   "cell_type": "markdown",
   "metadata": {},
   "source": [
    "**Put your answer here.**\n",
    "\n",
    "**The proportion calculated in *j* is called p-value. If p-value is larger than the $\\alpha$ (Type I error rate) which is 0.05, then we fail to reject the null hypothesis. In this case the p-value is way larger than the $\\alpha$ which means the null hypothesis is true. The conclution is the new page is not better than the old one.**"
   ]
  },
  {
   "cell_type": "markdown",
   "metadata": {},
   "source": [
    "l. We could also use a built-in to achieve similar results.  Though using the built-in might be easier to code, the above portions are a walkthrough of the ideas that are critical to correctly thinking about statistical significance. Fill in the below to calculate the number of conversions for each page, as well as the number of individuals who received each page. Let `n_old` and `n_new` refer the the number of rows associated with the old page and new pages, respectively."
   ]
  },
  {
   "cell_type": "code",
   "execution_count": 33,
   "metadata": {
    "scrolled": false
   },
   "outputs": [
    {
     "name": "stderr",
     "output_type": "stream",
     "text": [
      "/opt/conda/lib/python3.6/site-packages/statsmodels/compat/pandas.py:56: FutureWarning: The pandas.core.datetools module is deprecated and will be removed in a future version. Please use the pandas.tseries module instead.\n",
      "  from pandas.core import datetools\n"
     ]
    },
    {
     "data": {
      "text/plain": [
       "(17489, 17264, 145274, 145310)"
      ]
     },
     "execution_count": 33,
     "metadata": {},
     "output_type": "execute_result"
    }
   ],
   "source": [
    "import statsmodels.api as sm\n",
    "\n",
    "convert_old = df2[df2['landing_page']=='old_page']['converted'].sum()\n",
    "convert_new = df2[df2['landing_page']=='new_page']['converted'].sum()\n",
    "n_old = df2[df2['landing_page']=='old_page'].shape[0]\n",
    "n_new = df2[df2['landing_page']=='new_page'].shape[0]\n",
    "convert_old,convert_new,n_old,n_new"
   ]
  },
  {
   "cell_type": "markdown",
   "metadata": {},
   "source": [
    "m. Now use `stats.proportions_ztest` to compute your test statistic and p-value.  [Here](http://knowledgetack.com/python/statsmodels/proportions_ztest/) is a helpful link on using the built in."
   ]
  },
  {
   "cell_type": "code",
   "execution_count": 34,
   "metadata": {},
   "outputs": [
    {
     "name": "stdout",
     "output_type": "stream",
     "text": [
      "Zstat:  -1.31092419842\n",
      "P-value:  0.094941687241\n"
     ]
    }
   ],
   "source": [
    "zstat, p_value = sm.stats.proportions_ztest([convert_new, convert_old], [n_new, n_old], alternative='smaller')\n",
    "print('Zstat: ', zstat)\n",
    "print('P-value: ', p_value)"
   ]
  },
  {
   "cell_type": "markdown",
   "metadata": {},
   "source": [
    "n. What do the z-score and p-value you computed in the previous question mean for the conversion rates of the old and new pages?  Do they agree with the findings in parts **j.** and **k.**?"
   ]
  },
  {
   "cell_type": "markdown",
   "metadata": {},
   "source": [
    "**Put your answer here.**\n",
    "______________________________\n",
    "\n",
    "**z-stat/ z-score means the standard deviation of the population conversion rate difference. p-value is quite large and higher than the $\\alpha$, hence the null hypothesis cannot be rejected. This conclusion is consistent with the findings in **j.** and **k.**."
   ]
  },
  {
   "cell_type": "markdown",
   "metadata": {},
   "source": [
    "___________________________________________\n",
    "<font color='red'>Part II - A bootstrap approach (Extra exercise with questions asked in the end)</font>\n",
    "--------------------------------"
   ]
  },
  {
   "cell_type": "markdown",
   "metadata": {},
   "source": [
    "Hypothesis\n",
    "------\n",
    "$H_0: p_{new} - p_{old} \\leq 0$\n",
    "\n",
    "$H_1: p_{new} - p_{old} > 0$"
   ]
  },
  {
   "cell_type": "code",
   "execution_count": 71,
   "metadata": {
    "collapsed": true
   },
   "outputs": [
    {
     "data": {
      "text/plain": [
       "[0.0073924731182795633,\n",
       " 0.00084732814282345581,\n",
       " 0.002696824842125134,\n",
       " -0.0072319131444402301,\n",
       " -9.6480015436800626e-05,\n",
       " 1.4300700734340421e-05,\n",
       " -0.0014225800201261296,\n",
       " -0.0059644438641239667,\n",
       " 4.1683227949174118e-05,\n",
       " 0.0016692263791475564,\n",
       " -0.0012514200500567951,\n",
       " -0.0029800355588914529,\n",
       " -0.0026419881614991592,\n",
       " -0.00060629703088359299,\n",
       " -0.0020128401699887194,\n",
       " -0.0017488483727209625,\n",
       " 0.0028914260228342092,\n",
       " -0.0025492456753782311,\n",
       " -0.0054350426107340755,\n",
       " -0.001082125237486159,\n",
       " -0.0022199777416210681,\n",
       " -0.0014692817778309553,\n",
       " -0.0039338420064878449,\n",
       " -0.0056186514046628611,\n",
       " 0.0069731106275799648,\n",
       " -0.00062341745415256389,\n",
       " -0.0065858011300039127,\n",
       " -0.0033346134152585638,\n",
       " -0.001507032674144787,\n",
       " -0.0068211760075110456,\n",
       " 0.0034307287826656901,\n",
       " 0.001467510719080245,\n",
       " -0.0057361910526587817,\n",
       " -7.7603380403273858e-06,\n",
       " 0.0047519544728903546,\n",
       " 0.0042989768158575303,\n",
       " -0.00014104814694096413,\n",
       " 0.0049700795212723331,\n",
       " -0.0013417013417013485,\n",
       " -0.0005626583636081095,\n",
       " -0.0015472200618888016,\n",
       " -0.0035821508955377335,\n",
       " -0.0024066803850688739,\n",
       " -0.00010316045493760639,\n",
       " -0.0017420136573870759,\n",
       " -0.0029987849726401811,\n",
       " -0.0049379959979908156,\n",
       " -0.003051940122077601,\n",
       " 0.006517431977997562,\n",
       " -0.0052122102903697509,\n",
       " 0.0019530942380569932,\n",
       " 0.0096059877613046268,\n",
       " 0.0067406685167129138,\n",
       " -0.0015449993550210456,\n",
       " -0.0058960809433729472,\n",
       " 0.0017408917006326435,\n",
       " -0.0011000000000000038,\n",
       " -0.0042464924518430397,\n",
       " -0.0054372666065159309,\n",
       " 0.0020892301684836412,\n",
       " -0.0066388195136796585,\n",
       " -0.0055452932902685242,\n",
       " 0.00089704440290787335,\n",
       " 0.0007022455056047705,\n",
       " 0.002082200520550137,\n",
       " -0.0022408165510869327,\n",
       " 0.0015904040714344175,\n",
       " 0.0047204755276084309,\n",
       " -0.0057597129593541657,\n",
       " 0.00983809163193336,\n",
       " 0.0024593573988735268,\n",
       " -0.0067041278171127844,\n",
       " 0.0077886165577946698,\n",
       " 0.0028113926904150127,\n",
       " 5.6001400035005089e-05,\n",
       " -0.0075429172299311953,\n",
       " -0.004504103016857719,\n",
       " -0.013387594760595437,\n",
       " -0.00060285574331703229,\n",
       " -0.0016099623183457312,\n",
       " 0.00033656252349149873,\n",
       " -0.0045029383580811183,\n",
       " 0.0029461029461029381,\n",
       " 0.0047729670762183263,\n",
       " 0.0043798652280237077,\n",
       " 0.005825578247887736,\n",
       " -0.0011376844149535437,\n",
       " 0.0016622537400709236,\n",
       " -0.0053468602138744131,\n",
       " 0.0040729984671042385,\n",
       " -0.0085728086211303706,\n",
       " -0.0037098905343434657,\n",
       " -0.0025110361103097417,\n",
       " -0.0027542027542027531,\n",
       " -0.0061512235601103582,\n",
       " -0.0045575410178691766,\n",
       " 0.0026427470617299137,\n",
       " -0.0021505000860199963,\n",
       " -0.0049702317996494355,\n",
       " -0.0015719650931668994,\n",
       " -0.0045674021062261927,\n",
       " -4.0404712805711118e-05,\n",
       " -0.0073995013845589985,\n",
       " 0.00282341802106989,\n",
       " -0.0056074875143242719,\n",
       " -0.0046650041598673975,\n",
       " -0.0071353777542309815,\n",
       " -0.0061009118014626468,\n",
       " 0.0053518619266702955,\n",
       " -0.0032696856697347343,\n",
       " -0.0078285496275019295,\n",
       " -0.0059511209183096409,\n",
       " 0.00035104001404159813,\n",
       " 0.0027609614493746132,\n",
       " -0.013114593573359562,\n",
       " 0.00059255100141118733,\n",
       " -0.0073503023018525598,\n",
       " -0.0031915687582735053,\n",
       " 0.0013251059857278952,\n",
       " 0.001030923721634644,\n",
       " -0.0058828014707003745,\n",
       " 0.0017852730171113995,\n",
       " -0.0063843631582949506,\n",
       " 0.0010240266349327704,\n",
       " -0.0063758890987247741,\n",
       " 0.0034102453526380361,\n",
       " -0.0042921672537626632,\n",
       " 0.0054776953001684781,\n",
       " -0.0022625706860828348,\n",
       " 0.0060293505426415456,\n",
       " -0.00013760168562064468,\n",
       " -0.0065643670861467857,\n",
       " -0.0049185133225469607,\n",
       " -0.0070387362245187546,\n",
       " -0.0029340235501685019,\n",
       " 0.0065797516449379034,\n",
       " -0.0063553073308649233,\n",
       " 0.0012667261309544653,\n",
       " 7.6860888511873227e-05,\n",
       " -0.00050359724605232581,\n",
       " -0.011286239721689725,\n",
       " 0.0072851492476089103,\n",
       " -0.0077352091600556838,\n",
       " 0.0045251654431267552,\n",
       " 0.00029720004755201535,\n",
       " -0.0042698384285458635,\n",
       " -0.0038941686931357467,\n",
       " -0.0068188855232972773,\n",
       " -0.0012276701104903115,\n",
       " -0.007224869786812152,\n",
       " 0.0073265648107561365,\n",
       " -0.0038504126799357302,\n",
       " -0.01459659122869518,\n",
       " -0.0041413155385982836,\n",
       " 0.0088354581996575171,\n",
       " 0.0043569005590913396,\n",
       " 0.009618596298849702,\n",
       " 0.0011706447348904664,\n",
       " -0.0059235285720412867,\n",
       " 0.00093847601655734636,\n",
       " 0.0023987699481316793,\n",
       " 0.0010285541920671271,\n",
       " -0.0058009882376961058,\n",
       " -0.0053664626295666928,\n",
       " -0.0081899621205814288,\n",
       " -0.0086897383217460072,\n",
       " -0.0035491241114989081,\n",
       " -0.005050736819871407,\n",
       " -4.1280237774166118e-05,\n",
       " -0.0034530835711235192,\n",
       " 0.0034377952030228837,\n",
       " -0.00047188378766173378,\n",
       " -0.0056400303605095986,\n",
       " -0.0046035898293274174,\n",
       " 0.0018284501645605133,\n",
       " -0.0076511003060440175,\n",
       " 0.00626754935270947,\n",
       " 0.0052734940005785685,\n",
       " -0.0094466115425555081,\n",
       " 0.00087691200492535926,\n",
       " -0.0067977729012208415,\n",
       " -0.0067588332473131618,\n",
       " 0.001749312752489976,\n",
       " -0.0071971611515457695,\n",
       " -0.005301159756828086,\n",
       " -0.0039544484800311253,\n",
       " -0.0020402924687538959,\n",
       " 0.0050408254073329856,\n",
       " 0.011830052747613534,\n",
       " -0.0087135701275728866,\n",
       " 0.0060291468132921272,\n",
       " 0.0026847006711751692,\n",
       " -0.0011000327163781937,\n",
       " 0.00041930958648442318,\n",
       " -0.0063878470466346149,\n",
       " -0.0011708901053801013,\n",
       " -0.0044168464470495383,\n",
       " -0.010736574157291859,\n",
       " -0.006044292100326018,\n",
       " -0.00063698124848324267,\n",
       " -0.003040351133195604,\n",
       " 0.0033433343334333537,\n",
       " -3.3290279971259773e-05,\n",
       " -0.002340226188830799,\n",
       " -0.0019266598780480759,\n",
       " 0.0058765260719644136,\n",
       " -0.00069865008850727994,\n",
       " -0.0026837640972518506,\n",
       " -0.0014074541025357046,\n",
       " 0.0030239484012546114,\n",
       " 0.0044632046742572595,\n",
       " -0.0091962505554649548,\n",
       " -0.001639371951021526,\n",
       " -0.0030641140156825314,\n",
       " 0.0016033026113671384,\n",
       " -0.0080629057134340154,\n",
       " -0.0053437593143762924,\n",
       " 0.0024543918089178357,\n",
       " -0.007314311138359203,\n",
       " -0.0047909938459722162,\n",
       " 0.0019392077568310268,\n",
       " 0.00096799889305265729,\n",
       " 0.0033463071076915846,\n",
       " 0.0049990737937388452,\n",
       " -0.00071292783983914476,\n",
       " 0.003518400879600217,\n",
       " 0.0007177294351745217,\n",
       " 0.0017325450179500601,\n",
       " 3.0000940829513767e-05,\n",
       " -0.00065545346734884047,\n",
       " 0.0093145410771261344,\n",
       " -0.0079644079644079768,\n",
       " -0.003619023942250027,\n",
       " 0.00098055515622753886,\n",
       " -0.0036101203611122457,\n",
       " 0.0051374904316080772,\n",
       " 0.00055910033776525314,\n",
       " -0.0026583963712981107,\n",
       " 0.0018603636463127432,\n",
       " -0.0066064662570811117,\n",
       " 0.0015076864187051064,\n",
       " -0.00022938668891583913,\n",
       " -0.010198361631737859,\n",
       " 0.0015312401378116125,\n",
       " -0.0037449379806527433,\n",
       " 0.00030174129086547874,\n",
       " 0.0021199005299751272,\n",
       " -0.0030002633238023907,\n",
       " 0.0020952442210231959,\n",
       " 0.0050112249454752761,\n",
       " -0.0025000000000000022,\n",
       " -0.0014180503545125761,\n",
       " 0.0099127548609957566,\n",
       " 0.0027212584136858536,\n",
       " -0.0019283989872225099,\n",
       " -0.0026245021378609457,\n",
       " 0.0018060494245398795,\n",
       " -0.0013881635536986958,\n",
       " -0.0044336203627842879,\n",
       " 0.0039863358770229063,\n",
       " 0.0044228090837046541,\n",
       " -0.00084465744292032408,\n",
       " -0.0049817727533382483,\n",
       " 0.0027105877564186365,\n",
       " -0.013439772155386151,\n",
       " -0.0060049384871437156,\n",
       " -0.00064097476805866083,\n",
       " 0.0025649063336042888,\n",
       " -0.0076977339470067074,\n",
       " -0.0020032695599519895,\n",
       " 0.0037273403354606272,\n",
       " 0.0022253774653895608,\n",
       " 0.0029407039125956685,\n",
       " 0.0091328568121078757,\n",
       " -0.0027870947101900634,\n",
       " -0.0063497529226080457,\n",
       " -0.0010489612882876864,\n",
       " -0.0063680031203215276,\n",
       " -0.0071545990515929914,\n",
       " -0.0036729011559106517,\n",
       " -0.0014123923869431287,\n",
       " -0.00029741717881624774,\n",
       " -0.0027965204474432737,\n",
       " 0.0012246270746647525,\n",
       " -0.0032773008193252018,\n",
       " 0.0058761300587612947,\n",
       " -0.0054931208788993463,\n",
       " -0.0017769702353485489,\n",
       " 0.0018782525600085087,\n",
       " -0.0011084382114002062,\n",
       " -0.00014268005136482131,\n",
       " 0.0033580926221919577,\n",
       " 0.0035224904081199993,\n",
       " 0.00055773067485412331,\n",
       " -0.0038788350942474126,\n",
       " 0.0033421048084067845,\n",
       " -0.0069180712807783706,\n",
       " -0.0063888130518395259,\n",
       " -0.0058457722789121425,\n",
       " 0.00025248327218320432,\n",
       " 0.0010668658907127954,\n",
       " -0.0056593962011818877,\n",
       " -0.0052301766269731292,\n",
       " -0.0011506800460271971,\n",
       " -0.0051451609662757775,\n",
       " -0.003123297990196422,\n",
       " -0.0053238390939471109,\n",
       " 0.0031575138205917203,\n",
       " 0.0030852149324402667,\n",
       " -0.0020180505045126335,\n",
       " 0.0066672332669442946,\n",
       " -0.0027347915961801889,\n",
       " 0.00021237758698797182,\n",
       " -0.0034885686428388907,\n",
       " 0.0055927370349184574,\n",
       " 0.0015196844887448158,\n",
       " -0.0029389180883784144,\n",
       " -0.0077543551985361781,\n",
       " -0.0039565237200419046,\n",
       " -0.003141762903451556,\n",
       " 0.0013450398053401896,\n",
       " 2.3000074520246327e-05,\n",
       " -0.0040836826945745558,\n",
       " 0.0023023101531877699,\n",
       " -0.0049000000000000016,\n",
       " -0.0057151946293076544,\n",
       " -0.0029436041725708628,\n",
       " 0.0069632869171872835,\n",
       " -0.0012556532122492831,\n",
       " -0.0016725617586574038,\n",
       " -0.0010431017500489304,\n",
       " -4.0290612820223504e-05,\n",
       " -8.4802565277597441e-05,\n",
       " 0.0059093609454977519,\n",
       " 0.00022464057507987079,\n",
       " -0.0048690098586609554,\n",
       " -0.009304860367569473,\n",
       " -0.0045913864463859172,\n",
       " 0.0052719503664341166,\n",
       " -0.0027640478095707077,\n",
       " -7.7564136063787426e-05,\n",
       " -0.0055166703168455372,\n",
       " 0.00061456049779400057,\n",
       " -0.0056238082711025927,\n",
       " -0.0047604047604047628,\n",
       " 0.0013885442062841064,\n",
       " -0.001289302178920676,\n",
       " 0.0015188003797000915,\n",
       " -0.0012374606063556975,\n",
       " -0.004962256077709698,\n",
       " -0.0032512898283004049,\n",
       " 0.00548228426427666,\n",
       " -0.0003115644989913624,\n",
       " -0.00054745423928476145,\n",
       " 0.0044937594453462598,\n",
       " -0.00060078443401674619,\n",
       " -0.003565874314707923,\n",
       " -0.00030509088171264132,\n",
       " 0.0030162835469740856,\n",
       " -0.00070560011289602653,\n",
       " 0.00085572438472690526,\n",
       " -0.0063081654351392347,\n",
       " -0.0046597751692882688,\n",
       " 0.00070820842050102473,\n",
       " -0.0010957607732583613,\n",
       " 0.0037017703122787099,\n",
       " -0.0086100673543035855,\n",
       " -0.0048432909625876208,\n",
       " -0.0052012150315114414,\n",
       " -0.0028961458281520081,\n",
       " -0.0018556296900750363,\n",
       " -0.0071424425712793282,\n",
       " -0.0084627869429635683,\n",
       " 0.0018788485772868596,\n",
       " -0.0013225360374794631,\n",
       " -0.0086903043144019726,\n",
       " -0.0035132128457024125,\n",
       " -0.0025515592428123485,\n",
       " 0.001857560668721836,\n",
       " -0.0036650577669181117,\n",
       " -0.0060313570553374579,\n",
       " -0.0024330471037919271,\n",
       " 0.0031381351885743231,\n",
       " 0.00061401535038375921,\n",
       " -0.0043902071001999665,\n",
       " -0.00015837349847058757,\n",
       " 0.0029209490663850424,\n",
       " -0.0056858378886434913,\n",
       " 0.0036547360079253466,\n",
       " -0.0022472400898895933,\n",
       " -0.0048419236456586495,\n",
       " -0.0047766000477659915,\n",
       " -0.0042291057276431926,\n",
       " -0.0049916987696642101,\n",
       " -0.0041888460319382814,\n",
       " -0.013921534849217126,\n",
       " -0.0051925628387706202,\n",
       " -0.0029334881908215094,\n",
       " -0.0011351577898933152,\n",
       " -0.0020539021996697354,\n",
       " -0.0077979229008977302,\n",
       " 0.0015418636749135045,\n",
       " -0.00025515143720857003,\n",
       " -0.00043627449587868572,\n",
       " -3.8503474938667015e-06,\n",
       " 0.0056780803334046809,\n",
       " -0.0076468187877140464,\n",
       " -0.0042875639046544012,\n",
       " 0.0064107741796288892,\n",
       " -0.00049654363634420162,\n",
       " -0.0027852080492512671,\n",
       " -0.008141833070296936,\n",
       " -0.0035044668476666291,\n",
       " 0.00021500086000343643,\n",
       " -0.0096260015619624856,\n",
       " 0.0028567028567028641,\n",
       " 0.010417946669943473,\n",
       " 0.0023531052944869013,\n",
       " -0.00043031003872791296,\n",
       " -0.00060676723778131658,\n",
       " -0.0037196291618926264,\n",
       " -0.0063483222742566764,\n",
       " -0.0047942457849632358,\n",
       " 0.00039281066385001007,\n",
       " 0.0063995873377234169,\n",
       " 0.0036258869914954084,\n",
       " -0.0034865343904165458,\n",
       " 0.0013915934928538654,\n",
       " -0.00089857466928287832,\n",
       " -0.00082963715370353019,\n",
       " -0.010955437218845246,\n",
       " -0.0017600039600089157,\n",
       " -0.015831395784894634,\n",
       " -0.0089832656924934973,\n",
       " -0.0022079970869483823,\n",
       " -0.0023830650716227253,\n",
       " 0.0028369934327620583,\n",
       " -0.0029130114019269016,\n",
       " 0.001584411369933772,\n",
       " 0.0097242100972421003,\n",
       " 0.0033418884621924799,\n",
       " -0.0026817006704251689,\n",
       " 0.0017218580358440011,\n",
       " -0.0080669824238981946,\n",
       " 0.0061514825413426372,\n",
       " -0.006164488329588505,\n",
       " 0.0046480217976387767,\n",
       " 0.0076895646692388547,\n",
       " 0.0069353865838484713,\n",
       " -0.0019477800779112014,\n",
       " -0.0048786012196503081,\n",
       " 0.013881047077116695,\n",
       " -0.0019018038175599578,\n",
       " 0.010169658939765361,\n",
       " -0.0057776949880305045,\n",
       " -0.00067625309225986807,\n",
       " -0.00043776141834700466,\n",
       " -0.0078606519892774479,\n",
       " -0.00227887540519775,\n",
       " -0.0011289373590797486,\n",
       " -0.0018890505717607253,\n",
       " -0.0095049459954024001,\n",
       " -0.0026675409135207689,\n",
       " -0.00039368712110576798,\n",
       " -0.007247640289905613,\n",
       " -0.0025328957649632805,\n",
       " 0.010114940032141931,\n",
       " -0.0077142044338175536,\n",
       " 0.0050175401092792532,\n",
       " 0.0015090609416124612,\n",
       " 0.0025599450174922378,\n",
       " -0.0029893243046270057,\n",
       " -0.0020447807361210629,\n",
       " 0.0011154424981271588,\n",
       " 0.0041625604294904112,\n",
       " -0.0023419428337508319,\n",
       " 0.0074843534756781765,\n",
       " -0.0043886914588450732,\n",
       " 0.0044297621705834678,\n",
       " -0.0035524547449286986,\n",
       " 0.0074678688432783524,\n",
       " 0.0030574411006788066,\n",
       " 0.0020920640384768513,\n",
       " 0.0014983805128292171,\n",
       " -0.0051183480159234795,\n",
       " -0.0058643753200204735,\n",
       " -0.0069479670798545529,\n",
       " 0.0011672026262059126,\n",
       " 0.0028766434621460835,\n",
       " -0.00084636003385439584,\n",
       " -0.0085614815833390673,\n",
       " 0.0018243598672789546,\n",
       " -0.0011966742326532109,\n",
       " 0.0023413023413023371,\n",
       " -0.0028702753866484271,\n",
       " -0.0040750342710382248,\n",
       " 0.0015383049841081603,\n",
       " 0.0052185659651387828,\n",
       " 0.0049394084740144034,\n",
       " -0.0054867862241813059,\n",
       " 0.00053024415711419581,\n",
       " 0.004753832937813951,\n",
       " 0.0063928896185679596,\n",
       " -0.0073037511042242514,\n",
       " -0.0025872439680442866,\n",
       " 0.0047132092290471383,\n",
       " -0.010155542288206171,\n",
       " -0.0095306911110199649,\n",
       " 0.0013297029721981712,\n",
       " 0.0028182274873859853,\n",
       " -0.0013714226879884689,\n",
       " -0.0051579538099097988,\n",
       " 0.0067416024269768837,\n",
       " -0.0037285087233143721,\n",
       " 0.0054991545221082239,\n",
       " 0.00054004370412757963,\n",
       " -0.0014646940757100796,\n",
       " -0.00053677377409210025,\n",
       " -0.00050544547950662211,\n",
       " 0.0018859170647155393,\n",
       " -0.013100000000000014,\n",
       " 0.0049072739748919209,\n",
       " -0.0051669807359662756,\n",
       " -0.00202451822066399,\n",
       " 0.0034905616901653724,\n",
       " -0.002855353328973631,\n",
       " 0.0017328399246318571,\n",
       " -0.0028554737270215513,\n",
       " 0.00070678637225388141,\n",
       " -0.0026201429096312651,\n",
       " -0.0027431994937699433,\n",
       " 0.0034055146059011887,\n",
       " 0.0014119556042162251,\n",
       " 0.0014025564804940466,\n",
       " 0.00031904433209911653,\n",
       " -0.0026760006690001725,\n",
       " -0.0014418832831784439,\n",
       " -0.0016651020147734341,\n",
       " 0.0014278115871158709,\n",
       " 0.00055313947680271647,\n",
       " -0.0012391914994217129,\n",
       " 0.003434658052673456,\n",
       " -0.0034266656950451974,\n",
       " -0.0029634922760037458,\n",
       " -0.0089788899933122557,\n",
       " 0.0011604403949301567,\n",
       " -0.0065090202767150024,\n",
       " -0.00047667000476669941,\n",
       " -0.0019072027463719471,\n",
       " -0.0026664356062501698,\n",
       " 0.00013268171955507779,\n",
       " -0.0027722081869065579,\n",
       " -0.0031507208333420023,\n",
       " -0.0016130152574262563,\n",
       " -0.0067777516944379362,\n",
       " 0.0018463535604800463,\n",
       " 0.00056851068789792736,\n",
       " -7.1500315316358476e-06,\n",
       " -0.0064995186438071839,\n",
       " -0.0027265052117305399,\n",
       " 0.0029259920694300195,\n",
       " 0.0026256178639859212,\n",
       " 0.00042200768792440002,\n",
       " 0.0084380783431716039,\n",
       " -0.0054970662862551672,\n",
       " -0.0033396920944410297,\n",
       " -0.0043642046894560166,\n",
       " -0.0011588911369438265,\n",
       " 0.0012236000122359952,\n",
       " -0.0067558428778930202,\n",
       " -0.0013804997411062947,\n",
       " -0.0072548559911015664,\n",
       " -0.0039543693062127766,\n",
       " 0.0015434634941576125,\n",
       " -0.0078480733288342625,\n",
       " -0.0069558307080058585,\n",
       " -0.0072397120143752186,\n",
       " 0.0013526626512187917,\n",
       " -0.0039248716584173171,\n",
       " -0.0028421756999598147,\n",
       " -0.0013541909642766775,\n",
       " -0.0016446632208542006,\n",
       " -0.0073934718910670105,\n",
       " -0.0015829217555742292,\n",
       " 0.0041499313262537418,\n",
       " -0.016607738751807419,\n",
       " -0.0020037953469499298,\n",
       " -0.00015195493701590512,\n",
       " 0.006690422858704928,\n",
       " 0.0089873437975007547,\n",
       " -0.0031151244857792609,\n",
       " -0.01186933702832095,\n",
       " -0.0046795514486001888,\n",
       " 0.0037345037345037219,\n",
       " -0.002302818330251491,\n",
       " -0.0027399209863715468,\n",
       " 0.0010832516864227315,\n",
       " -0.0062110439750681506,\n",
       " 0.0028578456626502102,\n",
       " -0.0064825509555111044,\n",
       " -0.0059155785970302077,\n",
       " 0.00012874015577558906,\n",
       " -0.0018374493393311098,\n",
       " -0.0079623465779072172,\n",
       " -0.0021874568201611932,\n",
       " 0.00093281492503879959,\n",
       " -0.0027144391530457002,\n",
       " 0.0035839062664268645,\n",
       " 0.0064584981603385827,\n",
       " -0.0045905888653131749,\n",
       " 0.0087083563874708891,\n",
       " -0.0062789281461023416,\n",
       " 0.0063271934708534483,\n",
       " 0.0011913515444769984,\n",
       " -0.0065027486771216669,\n",
       " 0.0017680008663204239,\n",
       " 0.004766355529014013,\n",
       " 0.0023064814761481478,\n",
       " -0.010600301749144184,\n",
       " -0.0037009918594179819,\n",
       " 0.0035783688705911254,\n",
       " -0.0030830277472497225,\n",
       " -0.0027416542180497688,\n",
       " 0.0043828326663864076,\n",
       " -0.0017520933690556434,\n",
       " 0.0045003620130324717,\n",
       " -0.0020237800202378003,\n",
       " -0.0020521188834498882,\n",
       " -0.0020594274345330371,\n",
       " -0.011335974866118356,\n",
       " 0.0064199879355448242,\n",
       " 0.00036300081675183504,\n",
       " -0.0097360069726519921,\n",
       " -0.0063783280714549417,\n",
       " -0.00072076098470424954,\n",
       " 0.0046544203212873642,\n",
       " -0.0044047479677053608,\n",
       " -0.0093128610697173209,\n",
       " -0.0023933005544554409,\n",
       " -0.0053631815401745941,\n",
       " -0.0059585016233008603,\n",
       " -0.0052523951773357086,\n",
       " 0.0022038414104584986,\n",
       " -0.00066540322055158585,\n",
       " -0.0098476494149006555,\n",
       " -0.00509353143429013,\n",
       " -0.00034242986729436653,\n",
       " -0.0037724097338780183,\n",
       " 0.0047666552156060832,\n",
       " -0.0014233200142332036,\n",
       " -0.0014775369384234516,\n",
       " -0.00089480033251870816,\n",
       " 0.0013192460127660066,\n",
       " -0.0067569024324848764,\n",
       " -0.0001878033128504264,\n",
       " 0.0055913359614300495,\n",
       " 0.00043891970310547257,\n",
       " -0.00038007877183551808,\n",
       " -0.0013566106340477391,\n",
       " -0.0057529202301168092,\n",
       " -0.0010608354706596462,\n",
       " -0.0099050946396983669,\n",
       " 0.00039050351453162602,\n",
       " -0.0090885977882273483,\n",
       " 0.00055782655812243453,\n",
       " 0.0018417806630410399,\n",
       " -0.0077035230065468224,\n",
       " 0.0016045269720983968,\n",
       " -0.00084776003391040522,\n",
       " -0.0047853061106097605,\n",
       " -0.0011187361688858588,\n",
       " -0.0053852477547567668,\n",
       " 0.0038559586759070175,\n",
       " -0.0016191009835487546,\n",
       " -0.00059524009523841126,\n",
       " -0.0014532032697073538,\n",
       " -0.0059511602380464129,\n",
       " 0.00042484061177049115,\n",
       " -0.010007071056199635,\n",
       " 7.9641150018211482e-05,\n",
       " 0.00020370836435265605,\n",
       " -0.0038276658750213272,\n",
       " 0.0022076794764611662,\n",
       " 0.00059316310297294339,\n",
       " -0.0028443357558260024,\n",
       " -0.0030066750812808851,\n",
       " 0.0034583461151233563,\n",
       " 0.00388460417993991,\n",
       " -0.00071861058207457751,\n",
       " -0.0055892913890864676,\n",
       " 0.0065712487802755959,\n",
       " -0.0012442319570691168,\n",
       " -0.00030826734003787382,\n",
       " 0.0034026070999502722,\n",
       " -0.0064519322868888951,\n",
       " 0.0017268236402156328,\n",
       " 0.00085880651748780623,\n",
       " -0.01019179172612554,\n",
       " -0.0068056415015341348,\n",
       " -0.004271575925755472,\n",
       " 0.00067096096618379786,\n",
       " -0.00038115009528752464,\n",
       " 0.007575262365178928,\n",
       " 0.0014179168800180497,\n",
       " -0.0016155127302165118,\n",
       " 0.00085140766223494591,\n",
       " 0.00028330007082501274,\n",
       " 0.00036631068161947777,\n",
       " 0.00080355135800179445,\n",
       " -0.0024761300247612972,\n",
       " -0.0086660054270983472,\n",
       " 0.0031531924472226192,\n",
       " 0.00091895419428555947,\n",
       " -0.0020492338528208254,\n",
       " -0.003267781594153113,\n",
       " 0.0025786523467116462,\n",
       " -0.00091827730968689625,\n",
       " -0.0043728167926408157,\n",
       " -0.0087224785023065216,\n",
       " -0.009843646508030407,\n",
       " -0.00744670437844272,\n",
       " 0.002857088447079173,\n",
       " -0.0061110477988831763,\n",
       " -0.0017090098347267851,\n",
       " -0.0017396480928028868,\n",
       " -0.0050383898752441592,\n",
       " 0.0036678152477045284,\n",
       " -0.0029648623558626019,\n",
       " 0.00090494521212901302,\n",
       " -0.0067915585104163789,\n",
       " -0.0019591044079849129,\n",
       " -0.0010994279773853949,\n",
       " -0.0045421689026510503,\n",
       " -0.0076885606358865627,\n",
       " -0.0076507362729637401,\n",
       " 0.0032204481446827388,\n",
       " -0.0020214427066941598,\n",
       " -0.0033443612039700393,\n",
       " -0.0062186248744994926,\n",
       " -0.0018418477001563988,\n",
       " -0.010954181528582574,\n",
       " -0.0025490429370599171,\n",
       " -0.0072731891667587728,\n",
       " -0.0057507852650463959,\n",
       " 0.0047460601898424021,\n",
       " -0.0069216491793704649,\n",
       " 0.0026603655661130987,\n",
       " -0.0070436521340165176,\n",
       " -0.0048531105990783363,\n",
       " -0.0039851314644753777,\n",
       " -0.0051409637164662597,\n",
       " 0.0071766038303928276,\n",
       " -0.0079951394534591158,\n",
       " 0.001231270270280263,\n",
       " 0.00046470941036555469,\n",
       " -0.0060721931770768983,\n",
       " -0.0016317658363023402,\n",
       " -0.0039385228232870079,\n",
       " -0.0010736631523736162,\n",
       " -0.0087394252562357083,\n",
       " -0.0071999999999999981,\n",
       " 0.00089808014369281708,\n",
       " -0.00018564808683066425,\n",
       " -0.002781819503510044,\n",
       " -0.0049249413221247873,\n",
       " 0.00081518444154266012,\n",
       " 0.00057345321236200453,\n",
       " -0.0028635697810523164,\n",
       " -0.0058905280945047711,\n",
       " 0.0019699595667248965,\n",
       " -0.0018881429135371303,\n",
       " -0.0037953413312670908,\n",
       " -0.0025814466085033183,\n",
       " -0.0031160305304420988,\n",
       " 0.0097184013741241637,\n",
       " -0.0023791505947876462,\n",
       " 0.0035569121953561295,\n",
       " 0.00018423031134923162,\n",
       " 0.00023840244124100074,\n",
       " -0.00050100102184603978,\n",
       " -0.0068018382185438819,\n",
       " -0.00065918762020888977,\n",
       " -0.0021178491590309462,\n",
       " 0.0065752238905350119,\n",
       " 0.0054267704884093382,\n",
       " -0.0043030406884865119,\n",
       " -0.0071095932322175759,\n",
       " 0.0021641590952599932,\n",
       " 0.00081183002557745632,\n",
       " -0.015863191396740126,\n",
       " 0.0015920370208832579,\n",
       " -0.013768764610797332,\n",
       " -0.0031967147334733548,\n",
       " -0.012475140379679422,\n",
       " -0.00015776090870282811,\n",
       " -0.00068434791106185278,\n",
       " 0.0046499187348520016,\n",
       " 0.0034287475836975861,\n",
       " -0.0046467345812259281,\n",
       " -0.002757860992829958,\n",
       " -0.0038963777970092706,\n",
       " -0.0025224006306001495,\n",
       " -0.00089035969601708453,\n",
       " 0.00067984097897100249,\n",
       " 0.0048041432372891296,\n",
       " -0.00040060666495511654,\n",
       " 0.0084621152623867851,\n",
       " 0.0023848561216273795,\n",
       " -0.00028836610182671196,\n",
       " -0.012482455953662444,\n",
       " -0.0009959847097536223,\n",
       " -0.0011574416679000499,\n",
       " -0.0062844251377005556,\n",
       " -0.0014050657670603012,\n",
       " 0.00043563687230487036,\n",
       " -0.0080912996081297511,\n",
       " -0.0083000000000000018,\n",
       " 0.0040552246393609492,\n",
       " -0.0046185533476191809,\n",
       " 0.0062064967999082288,\n",
       " -0.0037121473351277301,\n",
       " -0.0026427311632753192,\n",
       " -0.0015222148653820794,\n",
       " -0.0073200658805929325,\n",
       " -0.0039000000000000007,\n",
       " 0.0099689595033520539,\n",
       " 0.00056276441207298022,\n",
       " -0.0043913326909514744,\n",
       " 0.0063151951153080366,\n",
       " -0.0063283850189445601,\n",
       " 0.003729971827686196,\n",
       " 0.00018683031574323605,\n",
       " 0.0032990435573560795,\n",
       " -0.0021827452532566516,\n",
       " -0.0075838645717212078,\n",
       " -0.0074987466855116897,\n",
       " -0.0052019735654363769,\n",
       " 0.0040700457856147204,\n",
       " -0.0030433896767966956,\n",
       " -0.0022877895054050357,\n",
       " -0.007054747302706485,\n",
       " 0.00030888019768332553,\n",
       " 0.00058033098075935263,\n",
       " -0.0036881006586109016,\n",
       " 0.001276005104020414,\n",
       " -0.00060205012046252171,\n",
       " -0.00020731015819776266,\n",
       " -0.00055238840182758597,\n",
       " -0.0056265171041415263,\n",
       " -0.005622920093332831,\n",
       " -0.0061398136534210612,\n",
       " -0.00080550503440646182,\n",
       " 0.0039790159160636579,\n",
       " -0.0064433115478589459,\n",
       " 0.002436327893702378,\n",
       " -0.0055416108615573001,\n",
       " -0.0097529018010111823,\n",
       " -0.0011280054595464301,\n",
       " -0.0034583830357766826,\n",
       " -0.0034457989589747884,\n",
       " -0.00055973318658063265,\n",
       " 0.00090501743043766569,\n",
       " -0.0030970459296552899,\n",
       " -0.00055367403628373002,\n",
       " 0.0027396782438153661,\n",
       " -0.0026878434428701942,\n",
       " 0.00035237186404717125,\n",
       " -0.008517442991876803,\n",
       " 0.0016498959561244003,\n",
       " -0.0046086284757700796,\n",
       " -0.0044971207195393104,\n",
       " 0.0030571793277563569,\n",
       " 0.0027766360551667035,\n",
       " 0.0034041328115219094,\n",
       " -0.0030070108919705574,\n",
       " -0.0050054008008641321,\n",
       " -0.0078198600188416484,\n",
       " 0.0048876215544110674,\n",
       " 0.0019921743316000384,\n",
       " 0.0032129154298270873,\n",
       " -0.0028175821606958029,\n",
       " 0.0066735820943547713,\n",
       " -0.0085222122429791519,\n",
       " 0.0035850107203904275,\n",
       " -0.0042190136180217386,\n",
       " -0.0035116889899238085,\n",
       " -0.00054398767415952953,\n",
       " -0.0025466449914241934,\n",
       " -0.011623891131306477,\n",
       " 0.0071987114517176737,\n",
       " -0.004587357808628803,\n",
       " -0.0030977296316746367,\n",
       " 0.005705120912819342,\n",
       " -0.0029763267132143362,\n",
       " -0.0025584609210459325,\n",
       " -0.00092302652976736232,\n",
       " 0.0025387209139395295,\n",
       " -0.0037709642632032941,\n",
       " -0.0014510644564972031,\n",
       " 0.0010607010607010664,\n",
       " 0.0016377701236631181,\n",
       " -0.014218355458886459,\n",
       " 0.0081952597983132314,\n",
       " -0.0011845971055822052,\n",
       " 0.0004928803154434086,\n",
       " -0.0026505116698355563,\n",
       " -0.0081180311358462487,\n",
       " -0.0061698199902167766,\n",
       " 0.0080425286804588908,\n",
       " 0.0033533806480685047,\n",
       " 0.0041572801212357985,\n",
       " 0.0015809400822638514,\n",
       " -0.00098826570479097764,\n",
       " -0.00061241276076010043,\n",
       " 0.0070301061793823505,\n",
       " 0.00042045010511253256,\n",
       " 0.0059723306630025536,\n",
       " -0.0065586850005576042,\n",
       " -0.0026213365756259377,\n",
       " -0.0047329182006522058,\n",
       " -0.0036140229273585733,\n",
       " 0.0026270102364309156,\n",
       " 0.00020407034487888998,\n",
       " 0.0048649055422591569,\n",
       " -0.0094203703513325021,\n",
       " -8.4223342824471525e-05,\n",
       " -0.0011354305563609779,\n",
       " 0.00034492249790096796,\n",
       " -0.004048750946976612,\n",
       " 0.0012058250653931984,\n",
       " 0.0050926384424777316,\n",
       " -0.0043859388152610174,\n",
       " 0.0081602851276637994,\n",
       " -0.0081341081341081423,\n",
       " 0.0028574700606406461,\n",
       " -0.00080734879202834509,\n",
       " 0.00089943569860287398,\n",
       " -0.0053913622682801726,\n",
       " -0.005382838114706967,\n",
       " -0.0036569548791255124,\n",
       " -0.0039316519265094468,\n",
       " -0.0023353424426408725,\n",
       " 0.0039464631434102948,\n",
       " -0.00023601223487425271,\n",
       " 0.0018115322459579808,\n",
       " -0.006586331636840026,\n",
       " 0.0036365611305926027,\n",
       " 0.0018371055724435564,\n",
       " -0.0064526944808587644,\n",
       " 0.0034542674984750776,\n",
       " -0.0024122025512530038,\n",
       " -0.0032315769611543921,\n",
       " -0.0055538833728192155,\n",
       " -0.0064497480746538577,\n",
       " 0.00097398471408600973,\n",
       " -0.0024592885343872328,\n",
       " -0.0020918302060281835,\n",
       " -0.0035445276029937162,\n",
       " -0.00092853370885406794,\n",
       " 0.0005897499136960499,\n",
       " -0.005193240830918544,\n",
       " 0.0029256315467572486,\n",
       " -0.0071917647258825379,\n",
       " -0.008257504738837157,\n",
       " -0.0081209737496165391,\n",
       " 0.00043501052636274462,\n",
       " 0.00084840190890429767,\n",
       " -0.0010269474864471745,\n",
       " 0.011498046031784698,\n",
       " -0.0055718134145045645,\n",
       " -0.0068204739505753759,\n",
       " -0.00034326041534510354,\n",
       " 0.0068133298111949236,\n",
       " -0.001424393372610161,\n",
       " -0.0018255888358499617,\n",
       " -0.012333837568894723,\n",
       " -0.0026551026551026452,\n",
       " -9.409180287575647e-05,\n",
       " -0.0016363971595832055,\n",
       " -0.0027887291931829733,\n",
       " 0.0091186596716340551,\n",
       " -0.0017409942280245394,\n",
       " -0.0061334735062127665,\n",
       " 0.0010245924694703701,\n",
       " -0.0023838026582007205,\n",
       " -0.0017804598946708633,\n",
       " 0.0018857390480726405,\n",
       " -0.0033418855725355356,\n",
       " -0.0012642196704738401,\n",
       " 0.0017815104103739016,\n",
       " 0.0039510283689117159,\n",
       " 0.0045188406695660238,\n",
       " 0.0029681414543893114,\n",
       " -0.0093233337024021257,\n",
       " 0.0012175076094225606,\n",
       " -0.0020913318091568267,\n",
       " -0.006470522915598631,\n",
       " -0.00019904050954369645,\n",
       " -0.0025550846048627007,\n",
       " -0.0042104460630423279,\n",
       " ...]"
      ]
     },
     "execution_count": 71,
     "metadata": {},
     "output_type": "execute_result"
    }
   ],
   "source": [
    "#bootstrap the sample and create a sample distribution\n",
    "p_diffs=[]\n",
    "for i in range(10000):\n",
    "    bt_sample=df2.sample(20000,replace=True)\n",
    "    converted_mean_old=bt_sample[bt_sample['group']=='control']['converted'].mean()\n",
    "    converted_mean_new=bt_sample[bt_sample['group']=='treatment']['converted'].mean()\n",
    "    p_diffs.append(converted_mean_new-converted_mean_old)\n",
    "    \n",
    "p_diffs"
   ]
  },
  {
   "cell_type": "code",
   "execution_count": 65,
   "metadata": {},
   "outputs": [
    {
     "data": {
      "image/png": "[encoded data removed]",
      "text/plain": [
       "<matplotlib.figure.Figure at 0x7f9eb340cc50>"
      ]
     },
     "metadata": {
      "needs_background": "light"
     },
     "output_type": "display_data"
    }
   ],
   "source": [
    "plt.hist(p_diffs);"
   ]
  },
  {
   "cell_type": "code",
   "execution_count": 66,
   "metadata": {},
   "outputs": [],
   "source": [
    "#convert p_diffs to arrary\n",
    "p_diffs=np.asarray(p_diffs)"
   ]
  },
  {
   "cell_type": "code",
   "execution_count": 67,
   "metadata": {},
   "outputs": [],
   "source": [
    "##Assume Null is True and create a normal distribution based on Null\n",
    "null_vals=np.random.normal(0,p_diffs.std(),p_diffs.size)"
   ]
  },
  {
   "cell_type": "code",
   "execution_count": 68,
   "metadata": {},
   "outputs": [
    {
     "data": {
      "image/png": "[encoded data removed]",
      "text/plain": [
       "<matplotlib.figure.Figure at 0x7f9eb33ccef0>"
      ]
     },
     "metadata": {
      "needs_background": "light"
     },
     "output_type": "display_data"
    }
   ],
   "source": [
    "#Visualize the null distribution and observed statistic\n",
    "obs_diffs = np.array(p_new_rate-p_old_rate).mean()\n",
    "\n",
    "plt.hist(null_vals, bins=10)\n",
    "plt.title('The Difference of Conversion Rate of New and Old Page - Null Hypo')\n",
    "plt.xlabel('Difference in Conversion Rate')\n",
    "plt.ylabel('Frequency')\n",
    "plt.axvline(x=(obs_diffs), color = 'red', label = 'Observed Difference')\n",
    "plt.legend()\n",
    "plt.show()"
   ]
  },
  {
   "cell_type": "code",
   "execution_count": 70,
   "metadata": {
    "scrolled": true
   },
   "outputs": [
    {
     "data": {
      "text/plain": [
       "0.62939999999999996"
      ]
     },
     "execution_count": 70,
     "metadata": {},
     "output_type": "execute_result"
    }
   ],
   "source": [
    "#Calculate p_value\n",
    "p_value=(null_vals>obs_diffs).mean()\n",
    "p_value"
   ]
  },
  {
   "cell_type": "markdown",
   "metadata": {},
   "source": [
    "The p_value is too high to reject the Null hypothesis. So not enough evidence to claim the new page is better than old page on improving convertion rate."
   ]
  },
  {
   "cell_type": "markdown",
   "metadata": {},
   "source": [
    "<font color='red'>Questions</font>\n",
    "---------------------------\n",
    "1. Is bootstrap approach appropriate in this dataset?\n",
    "2. Why the p_value calculated is different than p_value from other approach?\n",
    "___________________________________________________"
   ]
  },
  {
   "cell_type": "markdown",
   "metadata": {},
   "source": [
    "<a id='regression'></a>\n",
    "### Part III - A regression approach\n",
    "\n",
    "`1.` In this final part, you will see that the result you achieved in the A/B test in Part II above can also be achieved by performing regression.<br><br> \n",
    "\n",
    "a. Since each row is either a conversion or no conversion, what type of regression should you be performing in this case?"
   ]
  },
  {
   "cell_type": "markdown",
   "metadata": {},
   "source": [
    "**Put your answer here.**\n",
    "________________________\n",
    "**As we have a binary outcomes, we should use the logistic regression model.**"
   ]
  },
  {
   "cell_type": "markdown",
   "metadata": {},
   "source": [
    "b. The goal is to use **statsmodels** to fit the regression model you specified in part **a.** to see if there is a significant difference in conversion based on which page a customer receives. However, you first need to create in df2 a column for the intercept, and create a dummy variable column for which page each user received.  Add an **intercept** column, as well as an **ab_page** column, which is 1 when an individual receives the **treatment** and 0 if **control**."
   ]
  },
  {
   "cell_type": "code",
   "execution_count": 37,
   "metadata": {
    "scrolled": true
   },
   "outputs": [
    {
     "data": {
      "text/html": [
       "<div>\n",
       "<style scoped>\n",
       "    .dataframe tbody tr th:only-of-type {\n",
       "        vertical-align: middle;\n",
       "    }\n",
       "\n",
       "    .dataframe tbody tr th {\n",
       "        vertical-align: top;\n",
       "    }\n",
       "\n",
       "    .dataframe thead th {\n",
       "        text-align: right;\n",
       "    }\n",
       "</style>\n",
       "<table border=\"1\" class=\"dataframe\">\n",
       "  <thead>\n",
       "    <tr style=\"text-align: right;\">\n",
       "      <th></th>\n",
       "      <th>user_id</th>\n",
       "      <th>timestamp</th>\n",
       "      <th>group</th>\n",
       "      <th>landing_page</th>\n",
       "      <th>converted</th>\n",
       "      <th>intercept</th>\n",
       "      <th>ab_page</th>\n",
       "    </tr>\n",
       "  </thead>\n",
       "  <tbody>\n",
       "    <tr>\n",
       "      <th>0</th>\n",
       "      <td>851104</td>\n",
       "      <td>2017-01-21 22:11:48.556739</td>\n",
       "      <td>control</td>\n",
       "      <td>old_page</td>\n",
       "      <td>0</td>\n",
       "      <td>1</td>\n",
       "      <td>0</td>\n",
       "    </tr>\n",
       "    <tr>\n",
       "      <th>1</th>\n",
       "      <td>804228</td>\n",
       "      <td>2017-01-12 08:01:45.159739</td>\n",
       "      <td>control</td>\n",
       "      <td>old_page</td>\n",
       "      <td>0</td>\n",
       "      <td>1</td>\n",
       "      <td>0</td>\n",
       "    </tr>\n",
       "    <tr>\n",
       "      <th>4</th>\n",
       "      <td>864975</td>\n",
       "      <td>2017-01-21 01:52:26.210827</td>\n",
       "      <td>control</td>\n",
       "      <td>old_page</td>\n",
       "      <td>1</td>\n",
       "      <td>1</td>\n",
       "      <td>0</td>\n",
       "    </tr>\n",
       "    <tr>\n",
       "      <th>5</th>\n",
       "      <td>936923</td>\n",
       "      <td>2017-01-10 15:20:49.083499</td>\n",
       "      <td>control</td>\n",
       "      <td>old_page</td>\n",
       "      <td>0</td>\n",
       "      <td>1</td>\n",
       "      <td>0</td>\n",
       "    </tr>\n",
       "    <tr>\n",
       "      <th>7</th>\n",
       "      <td>719014</td>\n",
       "      <td>2017-01-17 01:48:29.539573</td>\n",
       "      <td>control</td>\n",
       "      <td>old_page</td>\n",
       "      <td>0</td>\n",
       "      <td>1</td>\n",
       "      <td>0</td>\n",
       "    </tr>\n",
       "  </tbody>\n",
       "</table>\n",
       "</div>"
      ],
      "text/plain": [
       "   user_id                   timestamp    group landing_page  converted  \\\n",
       "0   851104  2017-01-21 22:11:48.556739  control     old_page          0   \n",
       "1   804228  2017-01-12 08:01:45.159739  control     old_page          0   \n",
       "4   864975  2017-01-21 01:52:26.210827  control     old_page          1   \n",
       "5   936923  2017-01-10 15:20:49.083499  control     old_page          0   \n",
       "7   719014  2017-01-17 01:48:29.539573  control     old_page          0   \n",
       "\n",
       "   intercept  ab_page  \n",
       "0          1        0  \n",
       "1          1        0  \n",
       "4          1        0  \n",
       "5          1        0  \n",
       "7          1        0  "
      ]
     },
     "execution_count": 37,
     "metadata": {},
     "output_type": "execute_result"
    }
   ],
   "source": [
    "import statsmodels.api as sm\n",
    "df2['intercept']=1\n",
    "df2['ab_page']=pd.get_dummies(df['group'])['treatment']\n",
    "df2.head()"
   ]
  },
  {
   "cell_type": "markdown",
   "metadata": {},
   "source": [
    "c. Use **statsmodels** to instantiate your regression model on the two columns you created in part b., then fit the model using the two columns you created in part **b.** to predict whether or not an individual converts. "
   ]
  },
  {
   "cell_type": "code",
   "execution_count": 41,
   "metadata": {
    "scrolled": false
   },
   "outputs": [
    {
     "name": "stdout",
     "output_type": "stream",
     "text": [
      "Optimization terminated successfully.\n",
      "         Current function value: 0.366118\n",
      "         Iterations 6\n"
     ]
    }
   ],
   "source": [
    "log_mod=sm.Logit(df2['converted'],df2[['intercept','ab_page']])\n",
    "results=log_mod.fit()\n"
   ]
  },
  {
   "cell_type": "markdown",
   "metadata": {},
   "source": [
    "d. Provide the summary of your model below, and use it as necessary to answer the following questions."
   ]
  },
  {
   "cell_type": "code",
   "execution_count": 42,
   "metadata": {
    "scrolled": true
   },
   "outputs": [
    {
     "data": {
      "text/html": [
       "<table class=\"simpletable\">\n",
       "<caption>Logit Regression Results</caption>\n",
       "<tr>\n",
       "  <th>Dep. Variable:</th>     <td>converted</td>    <th>  No. Observations:  </th>   <td>290584</td>   \n",
       "</tr>\n",
       "<tr>\n",
       "  <th>Model:</th>               <td>Logit</td>      <th>  Df Residuals:      </th>   <td>290582</td>   \n",
       "</tr>\n",
       "<tr>\n",
       "  <th>Method:</th>               <td>MLE</td>       <th>  Df Model:          </th>   <td>     1</td>   \n",
       "</tr>\n",
       "<tr>\n",
       "  <th>Date:</th>          <td>Tue, 18 Jun 2019</td> <th>  Pseudo R-squ.:     </th>  <td>8.077e-06</td> \n",
       "</tr>\n",
       "<tr>\n",
       "  <th>Time:</th>              <td>23:17:16</td>     <th>  Log-Likelihood:    </th> <td>-1.0639e+05</td>\n",
       "</tr>\n",
       "<tr>\n",
       "  <th>converged:</th>           <td>True</td>       <th>  LL-Null:           </th> <td>-1.0639e+05</td>\n",
       "</tr>\n",
       "<tr>\n",
       "  <th> </th>                      <td> </td>        <th>  LLR p-value:       </th>   <td>0.1899</td>   \n",
       "</tr>\n",
       "</table>\n",
       "<table class=\"simpletable\">\n",
       "<tr>\n",
       "      <td></td>         <th>coef</th>     <th>std err</th>      <th>z</th>      <th>P>|z|</th>  <th>[0.025</th>    <th>0.975]</th>  \n",
       "</tr>\n",
       "<tr>\n",
       "  <th>intercept</th> <td>   -1.9888</td> <td>    0.008</td> <td> -246.669</td> <td> 0.000</td> <td>   -2.005</td> <td>   -1.973</td>\n",
       "</tr>\n",
       "<tr>\n",
       "  <th>ab_page</th>   <td>   -0.0150</td> <td>    0.011</td> <td>   -1.311</td> <td> 0.190</td> <td>   -0.037</td> <td>    0.007</td>\n",
       "</tr>\n",
       "</table>"
      ],
      "text/plain": [
       "<class 'statsmodels.iolib.summary.Summary'>\n",
       "\"\"\"\n",
       "                           Logit Regression Results                           \n",
       "==============================================================================\n",
       "Dep. Variable:              converted   No. Observations:               290584\n",
       "Model:                          Logit   Df Residuals:                   290582\n",
       "Method:                           MLE   Df Model:                            1\n",
       "Date:                Tue, 18 Jun 2019   Pseudo R-squ.:               8.077e-06\n",
       "Time:                        23:17:16   Log-Likelihood:            -1.0639e+05\n",
       "converged:                       True   LL-Null:                   -1.0639e+05\n",
       "                                        LLR p-value:                    0.1899\n",
       "==============================================================================\n",
       "                 coef    std err          z      P>|z|      [0.025      0.975]\n",
       "------------------------------------------------------------------------------\n",
       "intercept     -1.9888      0.008   -246.669      0.000      -2.005      -1.973\n",
       "ab_page       -0.0150      0.011     -1.311      0.190      -0.037       0.007\n",
       "==============================================================================\n",
       "\"\"\""
      ]
     },
     "execution_count": 42,
     "metadata": {},
     "output_type": "execute_result"
    }
   ],
   "source": [
    "results.summary()"
   ]
  },
  {
   "cell_type": "markdown",
   "metadata": {},
   "source": [
    "e. What is the p-value associated with **ab_page**? Why does it differ from the value you found in **Part II**?<br><br>  **Hint**: What are the null and alternative hypotheses associated with your regression model, and how do they compare to the null and alternative hypotheses in **Part II**?"
   ]
  },
  {
   "cell_type": "markdown",
   "metadata": {},
   "source": [
    "**Put your answer here.**\n",
    "_________________________________\n",
    "**In a regression model, p-value tests a different null hypothesis than the null hypothesis I tested in Part II.**\n",
    "\n",
    "**In a regression model, the null hypothesis is the y-variable (conversion rate) is not associate with x-variable (ab_page). in this case, the p-value is 0.19 which is not small enough if $\\alpha$ is 0.05. Thus, we fail to reject the null hypothesis. The conclusion is the new/old page doesn't predict the convertion rate.**\n",
    "\n",
    "Reference: \n",
    "https://blog.minitab.com/blog/adventures-in-statistics-2/how-to-interpret-regression-analysis-results-p-values-and-coefficients\n",
    "https://www.quora.com/How-do-I-interpret-p-value-in-logistic-regression"
   ]
  },
  {
   "cell_type": "markdown",
   "metadata": {},
   "source": [
    "f. Now, you are considering other things that might influence whether or not an individual converts.  Discuss why it is a good idea to consider other factors to add into your regression model.  Are there any disadvantages to adding additional terms into your regression model?"
   ]
  },
  {
   "cell_type": "markdown",
   "metadata": {},
   "source": [
    "**Put your answer here.**\n",
    "_________________________________\n",
    "**It is potentially benefitial to consider other variables. For example, demographic variables like age of the user, we may find that new page is effective to a certain age group. For example, we should consider time duration of viewing the page since people are not viewing the page long enough might not be a target consumer at all. And the new page is actually effective to target user.**\n",
    "\n",
    "**The downside of adding more variables can be unstable model and the coefficient of significant variables may be affected by the insignificant ones. So a variance inflation factor test is very necessary.**"
   ]
  },
  {
   "cell_type": "markdown",
   "metadata": {},
   "source": [
    "g. Now along with testing if the conversion rate changes for different pages, also add an effect based on which country a user lives in. You will need to read in the **countries.csv** dataset and merge together your datasets on the appropriate rows.  [Here](https://pandas.pydata.org/pandas-docs/stable/generated/pandas.DataFrame.join.html) are the docs for joining tables. \n",
    "\n",
    "Does it appear that country had an impact on conversion?  Don't forget to create dummy variables for these country columns - **Hint: You will need two columns for the three dummy variables.** Provide the statistical output as well as a written response to answer this question."
   ]
  },
  {
   "cell_type": "code",
   "execution_count": 43,
   "metadata": {
    "scrolled": true
   },
   "outputs": [
    {
     "data": {
      "text/html": [
       "<div>\n",
       "<style scoped>\n",
       "    .dataframe tbody tr th:only-of-type {\n",
       "        vertical-align: middle;\n",
       "    }\n",
       "\n",
       "    .dataframe tbody tr th {\n",
       "        vertical-align: top;\n",
       "    }\n",
       "\n",
       "    .dataframe thead th {\n",
       "        text-align: right;\n",
       "    }\n",
       "</style>\n",
       "<table border=\"1\" class=\"dataframe\">\n",
       "  <thead>\n",
       "    <tr style=\"text-align: right;\">\n",
       "      <th></th>\n",
       "      <th>user_id</th>\n",
       "      <th>country</th>\n",
       "    </tr>\n",
       "  </thead>\n",
       "  <tbody>\n",
       "    <tr>\n",
       "      <th>0</th>\n",
       "      <td>834778</td>\n",
       "      <td>UK</td>\n",
       "    </tr>\n",
       "    <tr>\n",
       "      <th>1</th>\n",
       "      <td>928468</td>\n",
       "      <td>US</td>\n",
       "    </tr>\n",
       "    <tr>\n",
       "      <th>2</th>\n",
       "      <td>822059</td>\n",
       "      <td>UK</td>\n",
       "    </tr>\n",
       "    <tr>\n",
       "      <th>3</th>\n",
       "      <td>711597</td>\n",
       "      <td>UK</td>\n",
       "    </tr>\n",
       "    <tr>\n",
       "      <th>4</th>\n",
       "      <td>710616</td>\n",
       "      <td>UK</td>\n",
       "    </tr>\n",
       "  </tbody>\n",
       "</table>\n",
       "</div>"
      ],
      "text/plain": [
       "   user_id country\n",
       "0   834778      UK\n",
       "1   928468      US\n",
       "2   822059      UK\n",
       "3   711597      UK\n",
       "4   710616      UK"
      ]
     },
     "execution_count": 43,
     "metadata": {},
     "output_type": "execute_result"
    }
   ],
   "source": [
    "ctry=pd.read_csv('countries.csv')\n",
    "ctry.head()"
   ]
  },
  {
   "cell_type": "code",
   "execution_count": 49,
   "metadata": {
    "scrolled": false
   },
   "outputs": [
    {
     "data": {
      "text/html": [
       "<div>\n",
       "<style scoped>\n",
       "    .dataframe tbody tr th:only-of-type {\n",
       "        vertical-align: middle;\n",
       "    }\n",
       "\n",
       "    .dataframe tbody tr th {\n",
       "        vertical-align: top;\n",
       "    }\n",
       "\n",
       "    .dataframe thead th {\n",
       "        text-align: right;\n",
       "    }\n",
       "</style>\n",
       "<table border=\"1\" class=\"dataframe\">\n",
       "  <thead>\n",
       "    <tr style=\"text-align: right;\">\n",
       "      <th></th>\n",
       "      <th>country</th>\n",
       "      <th>timestamp</th>\n",
       "      <th>group</th>\n",
       "      <th>landing_page</th>\n",
       "      <th>converted</th>\n",
       "      <th>intercept</th>\n",
       "      <th>ab_page</th>\n",
       "    </tr>\n",
       "    <tr>\n",
       "      <th>user_id</th>\n",
       "      <th></th>\n",
       "      <th></th>\n",
       "      <th></th>\n",
       "      <th></th>\n",
       "      <th></th>\n",
       "      <th></th>\n",
       "      <th></th>\n",
       "    </tr>\n",
       "  </thead>\n",
       "  <tbody>\n",
       "    <tr>\n",
       "      <th>834778</th>\n",
       "      <td>UK</td>\n",
       "      <td>2017-01-14 23:08:43.304998</td>\n",
       "      <td>control</td>\n",
       "      <td>old_page</td>\n",
       "      <td>0</td>\n",
       "      <td>1</td>\n",
       "      <td>0</td>\n",
       "    </tr>\n",
       "    <tr>\n",
       "      <th>928468</th>\n",
       "      <td>US</td>\n",
       "      <td>2017-01-23 14:44:16.387854</td>\n",
       "      <td>treatment</td>\n",
       "      <td>new_page</td>\n",
       "      <td>0</td>\n",
       "      <td>1</td>\n",
       "      <td>1</td>\n",
       "    </tr>\n",
       "    <tr>\n",
       "      <th>822059</th>\n",
       "      <td>UK</td>\n",
       "      <td>2017-01-16 14:04:14.719771</td>\n",
       "      <td>treatment</td>\n",
       "      <td>new_page</td>\n",
       "      <td>1</td>\n",
       "      <td>1</td>\n",
       "      <td>1</td>\n",
       "    </tr>\n",
       "    <tr>\n",
       "      <th>711597</th>\n",
       "      <td>UK</td>\n",
       "      <td>2017-01-22 03:14:24.763511</td>\n",
       "      <td>control</td>\n",
       "      <td>old_page</td>\n",
       "      <td>0</td>\n",
       "      <td>1</td>\n",
       "      <td>0</td>\n",
       "    </tr>\n",
       "    <tr>\n",
       "      <th>710616</th>\n",
       "      <td>UK</td>\n",
       "      <td>2017-01-16 13:14:44.000513</td>\n",
       "      <td>treatment</td>\n",
       "      <td>new_page</td>\n",
       "      <td>0</td>\n",
       "      <td>1</td>\n",
       "      <td>1</td>\n",
       "    </tr>\n",
       "  </tbody>\n",
       "</table>\n",
       "</div>"
      ],
      "text/plain": [
       "        country                   timestamp      group landing_page  \\\n",
       "user_id                                                               \n",
       "834778       UK  2017-01-14 23:08:43.304998    control     old_page   \n",
       "928468       US  2017-01-23 14:44:16.387854  treatment     new_page   \n",
       "822059       UK  2017-01-16 14:04:14.719771  treatment     new_page   \n",
       "711597       UK  2017-01-22 03:14:24.763511    control     old_page   \n",
       "710616       UK  2017-01-16 13:14:44.000513  treatment     new_page   \n",
       "\n",
       "         converted  intercept  ab_page  \n",
       "user_id                                 \n",
       "834778           0          1        0  \n",
       "928468           0          1        1  \n",
       "822059           1          1        1  \n",
       "711597           0          1        0  \n",
       "710616           0          1        1  "
      ]
     },
     "execution_count": 49,
     "metadata": {},
     "output_type": "execute_result"
    }
   ],
   "source": [
    "#join two dataframe based on user_id\n",
    "df3=ctry.set_index('user_id').join(df2.set_index('user_id'),how='inner')\n",
    "df3.head()"
   ]
  },
  {
   "cell_type": "code",
   "execution_count": 53,
   "metadata": {
    "scrolled": true
   },
   "outputs": [
    {
     "data": {
      "text/plain": [
       "US    203619\n",
       "UK     72466\n",
       "CA     14499\n",
       "Name: country, dtype: int64"
      ]
     },
     "execution_count": 53,
     "metadata": {},
     "output_type": "execute_result"
    }
   ],
   "source": [
    "df3['country'].value_counts()"
   ]
  },
  {
   "cell_type": "code",
   "execution_count": 57,
   "metadata": {
    "scrolled": true
   },
   "outputs": [
    {
     "data": {
      "text/html": [
       "<div>\n",
       "<style scoped>\n",
       "    .dataframe tbody tr th:only-of-type {\n",
       "        vertical-align: middle;\n",
       "    }\n",
       "\n",
       "    .dataframe tbody tr th {\n",
       "        vertical-align: top;\n",
       "    }\n",
       "\n",
       "    .dataframe thead th {\n",
       "        text-align: right;\n",
       "    }\n",
       "</style>\n",
       "<table border=\"1\" class=\"dataframe\">\n",
       "  <thead>\n",
       "    <tr style=\"text-align: right;\">\n",
       "      <th></th>\n",
       "      <th>country</th>\n",
       "      <th>timestamp</th>\n",
       "      <th>group</th>\n",
       "      <th>landing_page</th>\n",
       "      <th>converted</th>\n",
       "      <th>intercept</th>\n",
       "      <th>ab_page</th>\n",
       "      <th>CA</th>\n",
       "      <th>UK</th>\n",
       "      <th>US</th>\n",
       "    </tr>\n",
       "    <tr>\n",
       "      <th>user_id</th>\n",
       "      <th></th>\n",
       "      <th></th>\n",
       "      <th></th>\n",
       "      <th></th>\n",
       "      <th></th>\n",
       "      <th></th>\n",
       "      <th></th>\n",
       "      <th></th>\n",
       "      <th></th>\n",
       "      <th></th>\n",
       "    </tr>\n",
       "  </thead>\n",
       "  <tbody>\n",
       "    <tr>\n",
       "      <th>834778</th>\n",
       "      <td>UK</td>\n",
       "      <td>2017-01-14 23:08:43.304998</td>\n",
       "      <td>control</td>\n",
       "      <td>old_page</td>\n",
       "      <td>0</td>\n",
       "      <td>1</td>\n",
       "      <td>0</td>\n",
       "      <td>0</td>\n",
       "      <td>1</td>\n",
       "      <td>0</td>\n",
       "    </tr>\n",
       "    <tr>\n",
       "      <th>928468</th>\n",
       "      <td>US</td>\n",
       "      <td>2017-01-23 14:44:16.387854</td>\n",
       "      <td>treatment</td>\n",
       "      <td>new_page</td>\n",
       "      <td>0</td>\n",
       "      <td>1</td>\n",
       "      <td>1</td>\n",
       "      <td>0</td>\n",
       "      <td>0</td>\n",
       "      <td>1</td>\n",
       "    </tr>\n",
       "  </tbody>\n",
       "</table>\n",
       "</div>"
      ],
      "text/plain": [
       "        country                   timestamp      group landing_page  \\\n",
       "user_id                                                               \n",
       "834778       UK  2017-01-14 23:08:43.304998    control     old_page   \n",
       "928468       US  2017-01-23 14:44:16.387854  treatment     new_page   \n",
       "\n",
       "         converted  intercept  ab_page  CA  UK  US  \n",
       "user_id                                             \n",
       "834778           0          1        0   0   1   0  \n",
       "928468           0          1        1   0   0   1  "
      ]
     },
     "execution_count": 57,
     "metadata": {},
     "output_type": "execute_result"
    }
   ],
   "source": [
    "#create dummy variables\n",
    "df3[['CA','UK','US']]=pd.get_dummies(df3['country'])\n",
    "df3.head(2)"
   ]
  },
  {
   "cell_type": "code",
   "execution_count": 61,
   "metadata": {},
   "outputs": [
    {
     "name": "stdout",
     "output_type": "stream",
     "text": [
      "Optimization terminated successfully.\n",
      "         Current function value: 0.366113\n",
      "         Iterations 6\n"
     ]
    }
   ],
   "source": [
    "#regression and fit model\n",
    "logic_mod=sm.Logit(df3['converted'],df3[['intercept','ab_page','UK','US']])\n",
    "results=logic_mod.fit()"
   ]
  },
  {
   "cell_type": "markdown",
   "metadata": {},
   "source": [
    "h. Though you have now looked at the individual factors of country and page on conversion, we would now like to look at an interaction between page and country to see if there significant effects on conversion.  Create the necessary additional columns, and fit the new model.  \n",
    "\n",
    "Provide the summary results, and your conclusions based on the results."
   ]
  },
  {
   "cell_type": "code",
   "execution_count": 62,
   "metadata": {
    "scrolled": false
   },
   "outputs": [
    {
     "data": {
      "text/html": [
       "<table class=\"simpletable\">\n",
       "<caption>Logit Regression Results</caption>\n",
       "<tr>\n",
       "  <th>Dep. Variable:</th>     <td>converted</td>    <th>  No. Observations:  </th>   <td>290584</td>   \n",
       "</tr>\n",
       "<tr>\n",
       "  <th>Model:</th>               <td>Logit</td>      <th>  Df Residuals:      </th>   <td>290580</td>   \n",
       "</tr>\n",
       "<tr>\n",
       "  <th>Method:</th>               <td>MLE</td>       <th>  Df Model:          </th>   <td>     3</td>   \n",
       "</tr>\n",
       "<tr>\n",
       "  <th>Date:</th>          <td>Wed, 19 Jun 2019</td> <th>  Pseudo R-squ.:     </th>  <td>2.323e-05</td> \n",
       "</tr>\n",
       "<tr>\n",
       "  <th>Time:</th>              <td>00:02:01</td>     <th>  Log-Likelihood:    </th> <td>-1.0639e+05</td>\n",
       "</tr>\n",
       "<tr>\n",
       "  <th>converged:</th>           <td>True</td>       <th>  LL-Null:           </th> <td>-1.0639e+05</td>\n",
       "</tr>\n",
       "<tr>\n",
       "  <th> </th>                      <td> </td>        <th>  LLR p-value:       </th>   <td>0.1760</td>   \n",
       "</tr>\n",
       "</table>\n",
       "<table class=\"simpletable\">\n",
       "<tr>\n",
       "      <td></td>         <th>coef</th>     <th>std err</th>      <th>z</th>      <th>P>|z|</th>  <th>[0.025</th>    <th>0.975]</th>  \n",
       "</tr>\n",
       "<tr>\n",
       "  <th>intercept</th> <td>   -2.0300</td> <td>    0.027</td> <td>  -76.249</td> <td> 0.000</td> <td>   -2.082</td> <td>   -1.978</td>\n",
       "</tr>\n",
       "<tr>\n",
       "  <th>ab_page</th>   <td>   -0.0149</td> <td>    0.011</td> <td>   -1.307</td> <td> 0.191</td> <td>   -0.037</td> <td>    0.007</td>\n",
       "</tr>\n",
       "<tr>\n",
       "  <th>UK</th>        <td>    0.0506</td> <td>    0.028</td> <td>    1.784</td> <td> 0.074</td> <td>   -0.005</td> <td>    0.106</td>\n",
       "</tr>\n",
       "<tr>\n",
       "  <th>US</th>        <td>    0.0408</td> <td>    0.027</td> <td>    1.516</td> <td> 0.130</td> <td>   -0.012</td> <td>    0.093</td>\n",
       "</tr>\n",
       "</table>"
      ],
      "text/plain": [
       "<class 'statsmodels.iolib.summary.Summary'>\n",
       "\"\"\"\n",
       "                           Logit Regression Results                           \n",
       "==============================================================================\n",
       "Dep. Variable:              converted   No. Observations:               290584\n",
       "Model:                          Logit   Df Residuals:                   290580\n",
       "Method:                           MLE   Df Model:                            3\n",
       "Date:                Wed, 19 Jun 2019   Pseudo R-squ.:               2.323e-05\n",
       "Time:                        00:02:01   Log-Likelihood:            -1.0639e+05\n",
       "converged:                       True   LL-Null:                   -1.0639e+05\n",
       "                                        LLR p-value:                    0.1760\n",
       "==============================================================================\n",
       "                 coef    std err          z      P>|z|      [0.025      0.975]\n",
       "------------------------------------------------------------------------------\n",
       "intercept     -2.0300      0.027    -76.249      0.000      -2.082      -1.978\n",
       "ab_page       -0.0149      0.011     -1.307      0.191      -0.037       0.007\n",
       "UK             0.0506      0.028      1.784      0.074      -0.005       0.106\n",
       "US             0.0408      0.027      1.516      0.130      -0.012       0.093\n",
       "==============================================================================\n",
       "\"\"\""
      ]
     },
     "execution_count": 62,
     "metadata": {},
     "output_type": "execute_result"
    }
   ],
   "source": [
    "results.summary()"
   ]
  },
  {
   "cell_type": "markdown",
   "metadata": {},
   "source": [
    "## conclusion\n",
    "_____________________\n",
    "**With more variables, the p-value for all variables still are too high to reject the null hypothesis. Meaning the data shows not enough evidence to claim the new page or viewer geolocation are significant for convertion rate.**"
   ]
  },
  {
   "cell_type": "markdown",
   "metadata": {},
   "source": [
    "<a id='conclusions'></a>\n",
    "## Finishing Up\n",
    "\n",
    "> Congratulations!  You have reached the end of the A/B Test Results project!  You should be very proud of all you have accomplished!\n",
    "\n",
    "> **Tip**: Once you are satisfied with your work here, check over your report to make sure that it is satisfies all the areas of the rubric (found on the project submission page at the end of the lesson). You should also probably remove all of the \"Tips\" like this one so that the presentation is as polished as possible.\n",
    "\n",
    "\n",
    "## Directions to Submit\n",
    "\n",
    "> Before you submit your project, you need to create a .html or .pdf version of this notebook in the workspace here. To do that, run the code cell below. If it worked correctly, you should get a return code of 0, and you should see the generated .html file in the workspace directory (click on the orange Jupyter icon in the upper left).\n",
    "\n",
    "> Alternatively, you can download this report as .html via the **File** > **Download as** submenu, and then manually upload it into the workspace directory by clicking on the orange Jupyter icon in the upper left, then using the Upload button.\n",
    "\n",
    "> Once you've done this, you can submit your project by clicking on the \"Submit Project\" button in the lower right here. This will create and submit a zip file with this .ipynb doc and the .html or .pdf version you created. Congratulations!"
   ]
  },
  {
   "cell_type": "code",
   "execution_count": 73,
   "metadata": {},
   "outputs": [
    {
     "data": {
      "text/plain": [
       "0"
      ]
     },
     "execution_count": 73,
     "metadata": {},
     "output_type": "execute_result"
    }
   ],
   "source": [
    "from subprocess import call\n",
    "call(['python', '-m', 'nbconvert', 'Analyze_ab_test_results_notebook.ipynb'])"
   ]
  }
 ],
 "metadata": {
  "kernelspec": {
   "display_name": "Python 3",
   "language": "python",
   "name": "python3"
  },
  "language_info": {
   "codemirror_mode": {
    "name": "ipython",
    "version": 3
   },
   "file_extension": ".py",
   "mimetype": "text/x-python",
   "name": "python",
   "nbconvert_exporter": "python",
   "pygments_lexer": "ipython3",
   "version": "3.6.3"
  }
 },
 "nbformat": 4,
 "nbformat_minor": 2
}
